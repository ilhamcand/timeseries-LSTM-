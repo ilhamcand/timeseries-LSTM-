{
 "cells": [
  {
   "cell_type": "markdown",
   "id": "01b6d70d",
   "metadata": {},
   "source": [
    "#### Sharing data using retail data from one of mineral company in Indonesia"
   ]
  },
  {
   "cell_type": "code",
   "execution_count": 878,
   "id": "1e2f1716",
   "metadata": {},
   "outputs": [],
   "source": [
    "#### IMPORTS\n",
    "\n",
    "import pandas as pd\n",
    "import numpy as np\n",
    "import tensorflow as tf\n",
    "import warnings\n",
    "import requests\n",
    "import matplotlib.pyplot as plt\n",
    "import seaborn as sns\n",
    "import warnings\n",
    "\n",
    "from tensorflow import keras\n",
    "from zipfile import ZipFile\n",
    "from urllib.request import urlopen\n",
    "from urllib.error import HTTPError\n",
    "from sklearn.model_selection import train_test_split\n",
    "from sklearn.preprocessing import StandardScaler, MinMaxScaler\n",
    "from sklearn.metrics import mean_squared_log_error, mean_squared_error, mean_absolute_error, mean_absolute_percentage_error\n",
    "from sklearn.exceptions import DataConversionWarning\n",
    "\n",
    "#### TURNING OFF WARNINGS\n",
    "\n",
    "# Turning off DataConversion warning\n",
    "warnings.filterwarnings(action='ignore', category=DataConversionWarning)\n",
    "# Turning off keras warnings\n",
    "# tf.logging.set_verbosity(tf.logging.ERROR)\n",
    "# Turning off the chained assignment warning\n",
    "pd.options.mode.chained_assignment = None\n",
    "\n",
    "# Fixing random number generator's seed to get reproducible results\n",
    "\n",
    "# tf.random.set_random_seed(20)\n",
    "np.random.seed(20)"
   ]
  },
  {
   "cell_type": "markdown",
   "id": "04dab2d8",
   "metadata": {},
   "source": [
    "#### Here we check dataset existance and read the dataset into a pandas dataframe called \"data\""
   ]
  },
  {
   "cell_type": "code",
   "execution_count": 915,
   "id": "7b00c9aa",
   "metadata": {},
   "outputs": [],
   "source": [
    "data = pd.read_csv('tespgi.csv')"
   ]
  },
  {
   "cell_type": "code",
   "execution_count": 916,
   "id": "2ac96be5",
   "metadata": {},
   "outputs": [
    {
     "name": "stdout",
     "output_type": "stream",
     "text": [
      "We have 2553 rows and 5 columns in our data\n"
     ]
    }
   ],
   "source": [
    "print(\"We have\", data.shape[0], \"rows and\", data.shape[1], \"columns in our data\")"
   ]
  },
  {
   "cell_type": "code",
   "execution_count": 917,
   "id": "cf31bb9b",
   "metadata": {},
   "outputs": [
    {
     "data": {
      "application/vnd.microsoft.datawrangler.viewer.v0+json": {
       "columns": [
        {
         "name": "index",
         "rawType": "int64",
         "type": "integer"
        },
        {
         "name": "period",
         "rawType": "object",
         "type": "string"
        },
        {
         "name": "region",
         "rawType": "object",
         "type": "string"
        },
        {
         "name": "sku",
         "rawType": "object",
         "type": "string"
        },
        {
         "name": "sales amount",
         "rawType": "float64",
         "type": "float"
        },
        {
         "name": "pandemic",
         "rawType": "int64",
         "type": "integer"
        }
       ],
       "ref": "df563e37-14f5-403e-9bca-8db69aa2a0d4",
       "rows": [
        [
         "0",
         "1/1/2019",
         "Indonesia",
         "sku 141",
         "1534653.4",
         "0"
        ],
        [
         "1",
         "2/1/2019",
         "Indonesia",
         "sku 141",
         "1310567.4",
         "0"
        ],
        [
         "2",
         "3/1/2019",
         "Indonesia",
         "sku 141",
         "1496013.1",
         "0"
        ],
        [
         "3",
         "4/1/2019",
         "Indonesia",
         "sku 141",
         "1482934.5",
         "0"
        ],
        [
         "4",
         "5/1/2019",
         "Indonesia",
         "sku 141",
         "1527241.0",
         "0"
        ]
       ],
       "shape": {
        "columns": 5,
        "rows": 5
       }
      },
      "text/html": [
       "<div>\n",
       "<style scoped>\n",
       "    .dataframe tbody tr th:only-of-type {\n",
       "        vertical-align: middle;\n",
       "    }\n",
       "\n",
       "    .dataframe tbody tr th {\n",
       "        vertical-align: top;\n",
       "    }\n",
       "\n",
       "    .dataframe thead th {\n",
       "        text-align: right;\n",
       "    }\n",
       "</style>\n",
       "<table border=\"1\" class=\"dataframe\">\n",
       "  <thead>\n",
       "    <tr style=\"text-align: right;\">\n",
       "      <th></th>\n",
       "      <th>period</th>\n",
       "      <th>region</th>\n",
       "      <th>sku</th>\n",
       "      <th>sales amount</th>\n",
       "      <th>pandemic</th>\n",
       "    </tr>\n",
       "  </thead>\n",
       "  <tbody>\n",
       "    <tr>\n",
       "      <th>0</th>\n",
       "      <td>1/1/2019</td>\n",
       "      <td>Indonesia</td>\n",
       "      <td>sku 141</td>\n",
       "      <td>1534653.4</td>\n",
       "      <td>0</td>\n",
       "    </tr>\n",
       "    <tr>\n",
       "      <th>1</th>\n",
       "      <td>2/1/2019</td>\n",
       "      <td>Indonesia</td>\n",
       "      <td>sku 141</td>\n",
       "      <td>1310567.4</td>\n",
       "      <td>0</td>\n",
       "    </tr>\n",
       "    <tr>\n",
       "      <th>2</th>\n",
       "      <td>3/1/2019</td>\n",
       "      <td>Indonesia</td>\n",
       "      <td>sku 141</td>\n",
       "      <td>1496013.1</td>\n",
       "      <td>0</td>\n",
       "    </tr>\n",
       "    <tr>\n",
       "      <th>3</th>\n",
       "      <td>4/1/2019</td>\n",
       "      <td>Indonesia</td>\n",
       "      <td>sku 141</td>\n",
       "      <td>1482934.5</td>\n",
       "      <td>0</td>\n",
       "    </tr>\n",
       "    <tr>\n",
       "      <th>4</th>\n",
       "      <td>5/1/2019</td>\n",
       "      <td>Indonesia</td>\n",
       "      <td>sku 141</td>\n",
       "      <td>1527241.0</td>\n",
       "      <td>0</td>\n",
       "    </tr>\n",
       "  </tbody>\n",
       "</table>\n",
       "</div>"
      ],
      "text/plain": [
       "     period     region      sku  sales amount  pandemic\n",
       "0  1/1/2019  Indonesia  sku 141     1534653.4         0\n",
       "1  2/1/2019  Indonesia  sku 141     1310567.4         0\n",
       "2  3/1/2019  Indonesia  sku 141     1496013.1         0\n",
       "3  4/1/2019  Indonesia  sku 141     1482934.5         0\n",
       "4  5/1/2019  Indonesia  sku 141     1527241.0         0"
      ]
     },
     "execution_count": 917,
     "metadata": {},
     "output_type": "execute_result"
    }
   ],
   "source": [
    "data.head()"
   ]
  },
  {
   "cell_type": "code",
   "execution_count": 918,
   "id": "23ecc668",
   "metadata": {},
   "outputs": [
    {
     "data": {
      "text/plain": [
       "2553"
      ]
     },
     "execution_count": 918,
     "metadata": {},
     "output_type": "execute_result"
    }
   ],
   "source": [
    "len(data.index)"
   ]
  },
  {
   "cell_type": "code",
   "execution_count": 919,
   "id": "742e4987",
   "metadata": {},
   "outputs": [
    {
     "data": {
      "application/vnd.microsoft.datawrangler.viewer.v0+json": {
       "columns": [
        {
         "name": "index",
         "rawType": "int64",
         "type": "integer"
        },
        {
         "name": "period",
         "rawType": "object",
         "type": "string"
        },
        {
         "name": "region",
         "rawType": "object",
         "type": "string"
        },
        {
         "name": "sku",
         "rawType": "object",
         "type": "string"
        },
        {
         "name": "sales amount",
         "rawType": "float64",
         "type": "float"
        },
        {
         "name": "pandemic",
         "rawType": "int64",
         "type": "integer"
        }
       ],
       "ref": "29d934ae-95d5-4fdf-b608-4257adc1fa7a",
       "rows": [
        [
         "222",
         "1/1/2019",
         "Indonesia",
         "SKU12354",
         "59503.1",
         "0"
        ],
        [
         "259",
         "1/1/2019",
         "Indonesia",
         "SKU12354",
         "20664.0",
         "0"
        ],
        [
         "296",
         "1/1/2019",
         "Indonesia",
         "SKU12354",
         "24574.0",
         "0"
        ],
        [
         "0",
         "1/1/2019",
         "Indonesia",
         "sku 141",
         "1534653.4",
         "0"
        ],
        [
         "37",
         "1/1/2019",
         "Indonesia",
         "sku 341",
         "747891.9",
         "0"
        ],
        [
         "111",
         "1/1/2019",
         "Indonesia",
         "sku12",
         "62249.1",
         "0"
        ],
        [
         "370",
         "1/1/2019",
         "Indonesia",
         "sku43",
         "8457.7",
         "0"
        ],
        [
         "148",
         "1/1/2019",
         "Indonesia",
         "sku555",
         null,
         "0"
        ],
        [
         "555",
         "1/1/2019",
         "Indonesia",
         "sku556",
         "8457.7",
         "0"
        ],
        [
         "592",
         "1/1/2019",
         "Indonesia",
         "sku557",
         "10781.9",
         "0"
        ],
        [
         "333",
         "1/1/2019",
         "Indonesia",
         "sku6543",
         "32662.2",
         "0"
        ],
        [
         "444",
         "1/1/2019",
         "Indonesia",
         "sku6544",
         "10781.9",
         "0"
        ],
        [
         "481",
         "1/1/2019",
         "Indonesia",
         "sku6545",
         "15571.5",
         "0"
        ],
        [
         "518",
         "1/1/2019",
         "Indonesia",
         "sku6545",
         "32662.2",
         "0"
        ],
        [
         "185",
         "1/1/2019",
         "Indonesia",
         "sku76",
         "136404.9",
         "0"
        ],
        [
         "407",
         "1/1/2019",
         "Indonesia",
         "sku788",
         "8457.7",
         "0"
        ],
        [
         "74",
         "1/1/2019",
         "Indonesia",
         "sku87",
         "62249.1",
         "0"
        ],
        [
         "1332",
         "1/1/2019",
         "Jakarta",
         "SKU12354",
         "22322.0",
         "0"
        ],
        [
         "1369",
         "1/1/2019",
         "Jakarta",
         "SKU12354",
         "12345.8",
         "0"
        ],
        [
         "1406",
         "1/1/2019",
         "Jakarta",
         "SKU12354",
         "3673.8",
         "0"
        ],
        [
         "1110",
         "1/1/2019",
         "Jakarta",
         "sku 141",
         "376635.1",
         "0"
        ],
        [
         "1147",
         "1/1/2019",
         "Jakarta",
         "sku 341",
         "167496.0",
         "0"
        ],
        [
         "1221",
         "1/1/2019",
         "Jakarta",
         "sku12",
         "33161.4",
         "0"
        ],
        [
         "1480",
         "1/1/2019",
         "Jakarta",
         "sku43",
         "8477.5",
         "0"
        ],
        [
         "1258",
         "1/1/2019",
         "Jakarta",
         "sku555",
         null,
         "0"
        ],
        [
         "1443",
         "1/1/2019",
         "Jakarta",
         "sku6543",
         "4845.9",
         "0"
        ],
        [
         "1554",
         "1/1/2019",
         "Jakarta",
         "sku6544",
         "9356.8",
         "0"
        ],
        [
         "1295",
         "1/1/2019",
         "Jakarta",
         "sku76",
         "30456.2",
         "0"
        ],
        [
         "1517",
         "1/1/2019",
         "Jakarta",
         "sku788",
         "10333.1",
         "0"
        ],
        [
         "1184",
         "1/1/2019",
         "Jakarta",
         "sku87",
         "33161.4",
         "0"
        ],
        [
         "851",
         "1/1/2019",
         "Java",
         "SKU12354",
         "48830.8",
         "0"
        ],
        [
         "888",
         "1/1/2019",
         "Java",
         "SKU12354",
         "24269.2",
         "0"
        ],
        [
         "925",
         "1/1/2019",
         "Java",
         "SKU12354",
         "17103.3",
         "0"
        ],
        [
         "629",
         "1/1/2019",
         "Java",
         "sku 141",
         "984472.4",
         "0"
        ],
        [
         "666",
         "1/1/2019",
         "Java",
         "sku 341",
         "466475.6",
         "0"
        ],
        [
         "740",
         "1/1/2019",
         "Java",
         "sku12",
         "56294.7",
         "0"
        ],
        [
         "999",
         "1/1/2019",
         "Java",
         "sku43",
         "17108.2",
         "0"
        ],
        [
         "777",
         "1/1/2019",
         "Java",
         "sku555",
         null,
         "0"
        ],
        [
         "962",
         "1/1/2019",
         "Java",
         "sku6543",
         "8457.7",
         "0"
        ],
        [
         "1073",
         "1/1/2019",
         "Java",
         "sku6544",
         "11032.4",
         "0"
        ],
        [
         "814",
         "1/1/2019",
         "Java",
         "sku76",
         "93337.4",
         "0"
        ],
        [
         "1036",
         "1/1/2019",
         "Java",
         "sku788",
         "20779.9",
         "0"
        ],
        [
         "703",
         "1/1/2019",
         "Java",
         "sku87",
         "56294.7",
         "0"
        ],
        [
         "2294",
         "1/1/2019",
         "Sulawesi",
         "SKU12354",
         "10781.9",
         "0"
        ],
        [
         "2331",
         "1/1/2019",
         "Sulawesi",
         "SKU12354",
         "9474.0",
         "0"
        ],
        [
         "2368",
         "1/1/2019",
         "Sulawesi",
         "SKU12354",
         "3498.5",
         "0"
        ],
        [
         "2072",
         "1/1/2019",
         "Sulawesi",
         "sku 141",
         "296558.5",
         "0"
        ],
        [
         "2109",
         "1/1/2019",
         "Sulawesi",
         "sku 341",
         "161375.3",
         "0"
        ],
        [
         "2183",
         "1/1/2019",
         "Sulawesi",
         "sku12",
         "4331.0",
         "0"
        ],
        [
         "2442",
         "1/1/2019",
         "Sulawesi",
         "sku43",
         "2350.9",
         "0"
        ]
       ],
       "shape": {
        "columns": 5,
        "rows": 2553
       }
      },
      "text/html": [
       "<div>\n",
       "<style scoped>\n",
       "    .dataframe tbody tr th:only-of-type {\n",
       "        vertical-align: middle;\n",
       "    }\n",
       "\n",
       "    .dataframe tbody tr th {\n",
       "        vertical-align: top;\n",
       "    }\n",
       "\n",
       "    .dataframe thead th {\n",
       "        text-align: right;\n",
       "    }\n",
       "</style>\n",
       "<table border=\"1\" class=\"dataframe\">\n",
       "  <thead>\n",
       "    <tr style=\"text-align: right;\">\n",
       "      <th></th>\n",
       "      <th>period</th>\n",
       "      <th>region</th>\n",
       "      <th>sku</th>\n",
       "      <th>sales amount</th>\n",
       "      <th>pandemic</th>\n",
       "    </tr>\n",
       "  </thead>\n",
       "  <tbody>\n",
       "    <tr>\n",
       "      <th>222</th>\n",
       "      <td>1/1/2019</td>\n",
       "      <td>Indonesia</td>\n",
       "      <td>SKU12354</td>\n",
       "      <td>59503.1</td>\n",
       "      <td>0</td>\n",
       "    </tr>\n",
       "    <tr>\n",
       "      <th>259</th>\n",
       "      <td>1/1/2019</td>\n",
       "      <td>Indonesia</td>\n",
       "      <td>SKU12354</td>\n",
       "      <td>20664.0</td>\n",
       "      <td>0</td>\n",
       "    </tr>\n",
       "    <tr>\n",
       "      <th>296</th>\n",
       "      <td>1/1/2019</td>\n",
       "      <td>Indonesia</td>\n",
       "      <td>SKU12354</td>\n",
       "      <td>24574.0</td>\n",
       "      <td>0</td>\n",
       "    </tr>\n",
       "    <tr>\n",
       "      <th>0</th>\n",
       "      <td>1/1/2019</td>\n",
       "      <td>Indonesia</td>\n",
       "      <td>sku 141</td>\n",
       "      <td>1534653.4</td>\n",
       "      <td>0</td>\n",
       "    </tr>\n",
       "    <tr>\n",
       "      <th>37</th>\n",
       "      <td>1/1/2019</td>\n",
       "      <td>Indonesia</td>\n",
       "      <td>sku 341</td>\n",
       "      <td>747891.9</td>\n",
       "      <td>0</td>\n",
       "    </tr>\n",
       "    <tr>\n",
       "      <th>...</th>\n",
       "      <td>...</td>\n",
       "      <td>...</td>\n",
       "      <td>...</td>\n",
       "      <td>...</td>\n",
       "      <td>...</td>\n",
       "    </tr>\n",
       "    <tr>\n",
       "      <th>1956</th>\n",
       "      <td>9/1/2021</td>\n",
       "      <td>Sumatera</td>\n",
       "      <td>sku6543</td>\n",
       "      <td>2734.9</td>\n",
       "      <td>1</td>\n",
       "    </tr>\n",
       "    <tr>\n",
       "      <th>2067</th>\n",
       "      <td>9/1/2021</td>\n",
       "      <td>Sumatera</td>\n",
       "      <td>sku6544</td>\n",
       "      <td>2163.8</td>\n",
       "      <td>1</td>\n",
       "    </tr>\n",
       "    <tr>\n",
       "      <th>1808</th>\n",
       "      <td>9/1/2021</td>\n",
       "      <td>Sumatera</td>\n",
       "      <td>sku76</td>\n",
       "      <td>28365.0</td>\n",
       "      <td>1</td>\n",
       "    </tr>\n",
       "    <tr>\n",
       "      <th>2030</th>\n",
       "      <td>9/1/2021</td>\n",
       "      <td>Sumatera</td>\n",
       "      <td>sku788</td>\n",
       "      <td>2520.4</td>\n",
       "      <td>1</td>\n",
       "    </tr>\n",
       "    <tr>\n",
       "      <th>1697</th>\n",
       "      <td>9/1/2021</td>\n",
       "      <td>Sumatera</td>\n",
       "      <td>sku87</td>\n",
       "      <td>3176.6</td>\n",
       "      <td>1</td>\n",
       "    </tr>\n",
       "  </tbody>\n",
       "</table>\n",
       "<p>2553 rows × 5 columns</p>\n",
       "</div>"
      ],
      "text/plain": [
       "        period     region       sku  sales amount  pandemic\n",
       "222   1/1/2019  Indonesia  SKU12354       59503.1         0\n",
       "259   1/1/2019  Indonesia  SKU12354       20664.0         0\n",
       "296   1/1/2019  Indonesia  SKU12354       24574.0         0\n",
       "0     1/1/2019  Indonesia   sku 141     1534653.4         0\n",
       "37    1/1/2019  Indonesia   sku 341      747891.9         0\n",
       "...        ...        ...       ...           ...       ...\n",
       "1956  9/1/2021   Sumatera   sku6543        2734.9         1\n",
       "2067  9/1/2021   Sumatera   sku6544        2163.8         1\n",
       "1808  9/1/2021   Sumatera     sku76       28365.0         1\n",
       "2030  9/1/2021   Sumatera    sku788        2520.4         1\n",
       "1697  9/1/2021   Sumatera     sku87        3176.6         1\n",
       "\n",
       "[2553 rows x 5 columns]"
      ]
     },
     "execution_count": 919,
     "metadata": {},
     "output_type": "execute_result"
    }
   ],
   "source": [
    "data.sort_values(by=['period','region','sku'])"
   ]
  },
  {
   "cell_type": "markdown",
   "id": "76464bcc",
   "metadata": {},
   "source": [
    "#### grouping the data"
   ]
  },
  {
   "cell_type": "markdown",
   "id": "dff020c0",
   "metadata": {},
   "source": [
    "because there is duplication data from many source of operational agent we need to sum all the data "
   ]
  },
  {
   "cell_type": "code",
   "execution_count": 988,
   "id": "5874e15e",
   "metadata": {},
   "outputs": [],
   "source": [
    "data_group =  pd.pivot_table(data, \n",
    "                values='sales amount', \n",
    "                index=['period','region','sku'], \n",
    "                \n",
    "                aggfunc='sum')"
   ]
  },
  {
   "cell_type": "code",
   "execution_count": 989,
   "id": "3897ca31",
   "metadata": {},
   "outputs": [],
   "source": [
    "data_group = data_group.reset_index()"
   ]
  },
  {
   "cell_type": "markdown",
   "id": "8756ca4c",
   "metadata": {},
   "source": [
    "#### Data analysis and create new information based on date"
   ]
  },
  {
   "cell_type": "code",
   "execution_count": 922,
   "id": "0fe4bc63",
   "metadata": {},
   "outputs": [
    {
     "data": {
      "application/vnd.microsoft.datawrangler.viewer.v0+json": {
       "columns": [
        {
         "name": "index",
         "rawType": "int64",
         "type": "integer"
        },
        {
         "name": "period",
         "rawType": "object",
         "type": "string"
        },
        {
         "name": "region",
         "rawType": "object",
         "type": "string"
        },
        {
         "name": "sku",
         "rawType": "object",
         "type": "string"
        },
        {
         "name": "sales amount",
         "rawType": "float64",
         "type": "float"
        }
       ],
       "ref": "c7218283-96e6-4f70-b145-d84a94fb136d",
       "rows": [
        [
         "0",
         "1/1/2019",
         "Indonesia",
         "SKU12354",
         "104741.1"
        ],
        [
         "1",
         "1/1/2019",
         "Indonesia",
         "sku 141",
         "1534653.4"
        ],
        [
         "2",
         "1/1/2019",
         "Indonesia",
         "sku 341",
         "747891.9"
        ],
        [
         "3",
         "1/1/2019",
         "Indonesia",
         "sku12",
         "62249.1"
        ],
        [
         "4",
         "1/1/2019",
         "Indonesia",
         "sku43",
         "8457.7"
        ],
        [
         "5",
         "1/1/2019",
         "Indonesia",
         "sku555",
         "0.0"
        ],
        [
         "6",
         "1/1/2019",
         "Indonesia",
         "sku556",
         "8457.7"
        ],
        [
         "7",
         "1/1/2019",
         "Indonesia",
         "sku557",
         "10781.9"
        ],
        [
         "8",
         "1/1/2019",
         "Indonesia",
         "sku6543",
         "32662.2"
        ],
        [
         "9",
         "1/1/2019",
         "Indonesia",
         "sku6544",
         "10781.9"
        ],
        [
         "10",
         "1/1/2019",
         "Indonesia",
         "sku6545",
         "48233.7"
        ],
        [
         "11",
         "1/1/2019",
         "Indonesia",
         "sku76",
         "136404.9"
        ],
        [
         "12",
         "1/1/2019",
         "Indonesia",
         "sku788",
         "8457.7"
        ],
        [
         "13",
         "1/1/2019",
         "Indonesia",
         "sku87",
         "62249.1"
        ],
        [
         "14",
         "1/1/2019",
         "Jakarta",
         "SKU12354",
         "38341.6"
        ],
        [
         "15",
         "1/1/2019",
         "Jakarta",
         "sku 141",
         "376635.1"
        ],
        [
         "16",
         "1/1/2019",
         "Jakarta",
         "sku 341",
         "167496.0"
        ],
        [
         "17",
         "1/1/2019",
         "Jakarta",
         "sku12",
         "33161.4"
        ],
        [
         "18",
         "1/1/2019",
         "Jakarta",
         "sku43",
         "8477.5"
        ],
        [
         "19",
         "1/1/2019",
         "Jakarta",
         "sku555",
         "0.0"
        ],
        [
         "20",
         "1/1/2019",
         "Jakarta",
         "sku6543",
         "4845.9"
        ],
        [
         "21",
         "1/1/2019",
         "Jakarta",
         "sku6544",
         "9356.8"
        ],
        [
         "22",
         "1/1/2019",
         "Jakarta",
         "sku76",
         "30456.2"
        ],
        [
         "23",
         "1/1/2019",
         "Jakarta",
         "sku788",
         "10333.1"
        ],
        [
         "24",
         "1/1/2019",
         "Jakarta",
         "sku87",
         "33161.4"
        ],
        [
         "25",
         "1/1/2019",
         "Java",
         "SKU12354",
         "90203.3"
        ],
        [
         "26",
         "1/1/2019",
         "Java",
         "sku 141",
         "984472.4"
        ],
        [
         "27",
         "1/1/2019",
         "Java",
         "sku 341",
         "466475.6"
        ],
        [
         "28",
         "1/1/2019",
         "Java",
         "sku12",
         "56294.7"
        ],
        [
         "29",
         "1/1/2019",
         "Java",
         "sku43",
         "17108.2"
        ],
        [
         "30",
         "1/1/2019",
         "Java",
         "sku555",
         "0.0"
        ],
        [
         "31",
         "1/1/2019",
         "Java",
         "sku6543",
         "8457.7"
        ],
        [
         "32",
         "1/1/2019",
         "Java",
         "sku6544",
         "11032.4"
        ],
        [
         "33",
         "1/1/2019",
         "Java",
         "sku76",
         "93337.4"
        ],
        [
         "34",
         "1/1/2019",
         "Java",
         "sku788",
         "20779.9"
        ],
        [
         "35",
         "1/1/2019",
         "Java",
         "sku87",
         "56294.7"
        ],
        [
         "36",
         "1/1/2019",
         "Sulawesi",
         "SKU12354",
         "23754.4"
        ],
        [
         "37",
         "1/1/2019",
         "Sulawesi",
         "sku 141",
         "296558.5"
        ],
        [
         "38",
         "1/1/2019",
         "Sulawesi",
         "sku 341",
         "161375.3"
        ],
        [
         "39",
         "1/1/2019",
         "Sulawesi",
         "sku12",
         "4331.0"
        ],
        [
         "40",
         "1/1/2019",
         "Sulawesi",
         "sku43",
         "2350.9"
        ],
        [
         "41",
         "1/1/2019",
         "Sulawesi",
         "sku555",
         "0.0"
        ],
        [
         "42",
         "1/1/2019",
         "Sulawesi",
         "sku6543",
         "9701.4"
        ],
        [
         "43",
         "1/1/2019",
         "Sulawesi",
         "sku6544",
         "703.8"
        ],
        [
         "44",
         "1/1/2019",
         "Sulawesi",
         "sku76",
         "23465.3"
        ],
        [
         "45",
         "1/1/2019",
         "Sulawesi",
         "sku788",
         "2516.7"
        ],
        [
         "46",
         "1/1/2019",
         "Sulawesi",
         "sku87",
         "4331.0"
        ],
        [
         "47",
         "1/1/2019",
         "Sumatera",
         "SKU12354",
         "17144.0"
        ],
        [
         "48",
         "1/1/2019",
         "Sumatera",
         "sku 141",
         "253622.5"
        ],
        [
         "49",
         "1/1/2019",
         "Sumatera",
         "sku 341",
         "120041.0"
        ]
       ],
       "shape": {
        "columns": 4,
        "rows": 2146
       }
      },
      "text/html": [
       "<div>\n",
       "<style scoped>\n",
       "    .dataframe tbody tr th:only-of-type {\n",
       "        vertical-align: middle;\n",
       "    }\n",
       "\n",
       "    .dataframe tbody tr th {\n",
       "        vertical-align: top;\n",
       "    }\n",
       "\n",
       "    .dataframe thead th {\n",
       "        text-align: right;\n",
       "    }\n",
       "</style>\n",
       "<table border=\"1\" class=\"dataframe\">\n",
       "  <thead>\n",
       "    <tr style=\"text-align: right;\">\n",
       "      <th></th>\n",
       "      <th>period</th>\n",
       "      <th>region</th>\n",
       "      <th>sku</th>\n",
       "      <th>sales amount</th>\n",
       "    </tr>\n",
       "  </thead>\n",
       "  <tbody>\n",
       "    <tr>\n",
       "      <th>0</th>\n",
       "      <td>1/1/2019</td>\n",
       "      <td>Indonesia</td>\n",
       "      <td>SKU12354</td>\n",
       "      <td>104741.1</td>\n",
       "    </tr>\n",
       "    <tr>\n",
       "      <th>1</th>\n",
       "      <td>1/1/2019</td>\n",
       "      <td>Indonesia</td>\n",
       "      <td>sku 141</td>\n",
       "      <td>1534653.4</td>\n",
       "    </tr>\n",
       "    <tr>\n",
       "      <th>2</th>\n",
       "      <td>1/1/2019</td>\n",
       "      <td>Indonesia</td>\n",
       "      <td>sku 341</td>\n",
       "      <td>747891.9</td>\n",
       "    </tr>\n",
       "    <tr>\n",
       "      <th>3</th>\n",
       "      <td>1/1/2019</td>\n",
       "      <td>Indonesia</td>\n",
       "      <td>sku12</td>\n",
       "      <td>62249.1</td>\n",
       "    </tr>\n",
       "    <tr>\n",
       "      <th>4</th>\n",
       "      <td>1/1/2019</td>\n",
       "      <td>Indonesia</td>\n",
       "      <td>sku43</td>\n",
       "      <td>8457.7</td>\n",
       "    </tr>\n",
       "    <tr>\n",
       "      <th>...</th>\n",
       "      <td>...</td>\n",
       "      <td>...</td>\n",
       "      <td>...</td>\n",
       "      <td>...</td>\n",
       "    </tr>\n",
       "    <tr>\n",
       "      <th>2141</th>\n",
       "      <td>9/1/2021</td>\n",
       "      <td>Sumatera</td>\n",
       "      <td>sku6543</td>\n",
       "      <td>2734.9</td>\n",
       "    </tr>\n",
       "    <tr>\n",
       "      <th>2142</th>\n",
       "      <td>9/1/2021</td>\n",
       "      <td>Sumatera</td>\n",
       "      <td>sku6544</td>\n",
       "      <td>2163.8</td>\n",
       "    </tr>\n",
       "    <tr>\n",
       "      <th>2143</th>\n",
       "      <td>9/1/2021</td>\n",
       "      <td>Sumatera</td>\n",
       "      <td>sku76</td>\n",
       "      <td>28365.0</td>\n",
       "    </tr>\n",
       "    <tr>\n",
       "      <th>2144</th>\n",
       "      <td>9/1/2021</td>\n",
       "      <td>Sumatera</td>\n",
       "      <td>sku788</td>\n",
       "      <td>2520.4</td>\n",
       "    </tr>\n",
       "    <tr>\n",
       "      <th>2145</th>\n",
       "      <td>9/1/2021</td>\n",
       "      <td>Sumatera</td>\n",
       "      <td>sku87</td>\n",
       "      <td>3176.6</td>\n",
       "    </tr>\n",
       "  </tbody>\n",
       "</table>\n",
       "<p>2146 rows × 4 columns</p>\n",
       "</div>"
      ],
      "text/plain": [
       "        period     region       sku  sales amount\n",
       "0     1/1/2019  Indonesia  SKU12354      104741.1\n",
       "1     1/1/2019  Indonesia   sku 141     1534653.4\n",
       "2     1/1/2019  Indonesia   sku 341      747891.9\n",
       "3     1/1/2019  Indonesia     sku12       62249.1\n",
       "4     1/1/2019  Indonesia     sku43        8457.7\n",
       "...        ...        ...       ...           ...\n",
       "2141  9/1/2021   Sumatera   sku6543        2734.9\n",
       "2142  9/1/2021   Sumatera   sku6544        2163.8\n",
       "2143  9/1/2021   Sumatera     sku76       28365.0\n",
       "2144  9/1/2021   Sumatera    sku788        2520.4\n",
       "2145  9/1/2021   Sumatera     sku87        3176.6\n",
       "\n",
       "[2146 rows x 4 columns]"
      ]
     },
     "execution_count": 922,
     "metadata": {},
     "output_type": "execute_result"
    }
   ],
   "source": [
    "data_group"
   ]
  },
  {
   "cell_type": "code",
   "execution_count": 923,
   "id": "6ae90141",
   "metadata": {},
   "outputs": [],
   "source": [
    "data_group['month'] = pd.to_datetime(data_group['period']).dt.month"
   ]
  },
  {
   "cell_type": "code",
   "execution_count": 924,
   "id": "4ccf3129",
   "metadata": {},
   "outputs": [],
   "source": [
    "data_group['year'] = pd.to_datetime(data_group['period']).dt.year"
   ]
  },
  {
   "cell_type": "code",
   "execution_count": 925,
   "id": "5bc9aa69",
   "metadata": {},
   "outputs": [],
   "source": [
    "data_group=data_group.dropna()"
   ]
  },
  {
   "cell_type": "code",
   "execution_count": 930,
   "id": "8c65eee3",
   "metadata": {},
   "outputs": [
    {
     "data": {
      "text/plain": [
       "<Axes: ylabel='sales amount'>"
      ]
     },
     "execution_count": 930,
     "metadata": {},
     "output_type": "execute_result"
    },
    {
     "data": {
      "image/png": "[encoded data removed]",
      "text/plain": [
       "<Figure size 640x480 with 1 Axes>"
      ]
     },
     "metadata": {},
     "output_type": "display_data"
    }
   ],
   "source": [
    "sns.boxplot(data= data_group,y='sales amount',hue='region')"
   ]
  },
  {
   "cell_type": "markdown",
   "id": "2c2ca8de",
   "metadata": {},
   "source": [
    "we need to remove non sales data and small sales data wich might be not relevan to business"
   ]
  },
  {
   "cell_type": "code",
   "execution_count": 933,
   "id": "b6e08670",
   "metadata": {},
   "outputs": [],
   "source": [
    "data_group = data_group[data_group['sales amount']>100]"
   ]
  },
  {
   "cell_type": "code",
   "execution_count": 934,
   "id": "404201b0",
   "metadata": {},
   "outputs": [],
   "source": [
    "data_group = data_group.drop_duplicates()"
   ]
  },
  {
   "cell_type": "code",
   "execution_count": 935,
   "id": "7f09e287",
   "metadata": {},
   "outputs": [
    {
     "data": {
      "application/vnd.microsoft.datawrangler.viewer.v0+json": {
       "columns": [
        {
         "name": "index",
         "rawType": "int64",
         "type": "integer"
        },
        {
         "name": "period",
         "rawType": "object",
         "type": "string"
        },
        {
         "name": "region",
         "rawType": "object",
         "type": "string"
        },
        {
         "name": "sku",
         "rawType": "object",
         "type": "string"
        },
        {
         "name": "sales amount",
         "rawType": "float64",
         "type": "float"
        },
        {
         "name": "month",
         "rawType": "int32",
         "type": "integer"
        },
        {
         "name": "year",
         "rawType": "int32",
         "type": "integer"
        }
       ],
       "ref": "62da70c9-1631-45e8-a110-97f9f7565b2b",
       "rows": [
        [
         "0",
         "1/1/2019",
         "Indonesia",
         "SKU12354",
         "104741.1",
         "1",
         "2019"
        ],
        [
         "1",
         "1/1/2019",
         "Indonesia",
         "sku 141",
         "1534653.4",
         "1",
         "2019"
        ],
        [
         "2",
         "1/1/2019",
         "Indonesia",
         "sku 341",
         "747891.9",
         "1",
         "2019"
        ],
        [
         "3",
         "1/1/2019",
         "Indonesia",
         "sku12",
         "62249.1",
         "1",
         "2019"
        ],
        [
         "4",
         "1/1/2019",
         "Indonesia",
         "sku43",
         "8457.7",
         "1",
         "2019"
        ],
        [
         "6",
         "1/1/2019",
         "Indonesia",
         "sku556",
         "8457.7",
         "1",
         "2019"
        ],
        [
         "7",
         "1/1/2019",
         "Indonesia",
         "sku557",
         "10781.9",
         "1",
         "2019"
        ],
        [
         "8",
         "1/1/2019",
         "Indonesia",
         "sku6543",
         "32662.2",
         "1",
         "2019"
        ],
        [
         "9",
         "1/1/2019",
         "Indonesia",
         "sku6544",
         "10781.9",
         "1",
         "2019"
        ],
        [
         "10",
         "1/1/2019",
         "Indonesia",
         "sku6545",
         "48233.7",
         "1",
         "2019"
        ],
        [
         "11",
         "1/1/2019",
         "Indonesia",
         "sku76",
         "136404.9",
         "1",
         "2019"
        ],
        [
         "12",
         "1/1/2019",
         "Indonesia",
         "sku788",
         "8457.7",
         "1",
         "2019"
        ],
        [
         "13",
         "1/1/2019",
         "Indonesia",
         "sku87",
         "62249.1",
         "1",
         "2019"
        ],
        [
         "14",
         "1/1/2019",
         "Jakarta",
         "SKU12354",
         "38341.6",
         "1",
         "2019"
        ],
        [
         "15",
         "1/1/2019",
         "Jakarta",
         "sku 141",
         "376635.1",
         "1",
         "2019"
        ],
        [
         "16",
         "1/1/2019",
         "Jakarta",
         "sku 341",
         "167496.0",
         "1",
         "2019"
        ],
        [
         "17",
         "1/1/2019",
         "Jakarta",
         "sku12",
         "33161.4",
         "1",
         "2019"
        ],
        [
         "18",
         "1/1/2019",
         "Jakarta",
         "sku43",
         "8477.5",
         "1",
         "2019"
        ],
        [
         "20",
         "1/1/2019",
         "Jakarta",
         "sku6543",
         "4845.9",
         "1",
         "2019"
        ],
        [
         "21",
         "1/1/2019",
         "Jakarta",
         "sku6544",
         "9356.8",
         "1",
         "2019"
        ],
        [
         "22",
         "1/1/2019",
         "Jakarta",
         "sku76",
         "30456.2",
         "1",
         "2019"
        ],
        [
         "23",
         "1/1/2019",
         "Jakarta",
         "sku788",
         "10333.1",
         "1",
         "2019"
        ],
        [
         "24",
         "1/1/2019",
         "Jakarta",
         "sku87",
         "33161.4",
         "1",
         "2019"
        ],
        [
         "25",
         "1/1/2019",
         "Java",
         "SKU12354",
         "90203.3",
         "1",
         "2019"
        ],
        [
         "26",
         "1/1/2019",
         "Java",
         "sku 141",
         "984472.4",
         "1",
         "2019"
        ],
        [
         "27",
         "1/1/2019",
         "Java",
         "sku 341",
         "466475.6",
         "1",
         "2019"
        ],
        [
         "28",
         "1/1/2019",
         "Java",
         "sku12",
         "56294.7",
         "1",
         "2019"
        ],
        [
         "29",
         "1/1/2019",
         "Java",
         "sku43",
         "17108.2",
         "1",
         "2019"
        ],
        [
         "31",
         "1/1/2019",
         "Java",
         "sku6543",
         "8457.7",
         "1",
         "2019"
        ],
        [
         "32",
         "1/1/2019",
         "Java",
         "sku6544",
         "11032.4",
         "1",
         "2019"
        ],
        [
         "33",
         "1/1/2019",
         "Java",
         "sku76",
         "93337.4",
         "1",
         "2019"
        ],
        [
         "34",
         "1/1/2019",
         "Java",
         "sku788",
         "20779.9",
         "1",
         "2019"
        ],
        [
         "35",
         "1/1/2019",
         "Java",
         "sku87",
         "56294.7",
         "1",
         "2019"
        ],
        [
         "36",
         "1/1/2019",
         "Sulawesi",
         "SKU12354",
         "23754.4",
         "1",
         "2019"
        ],
        [
         "37",
         "1/1/2019",
         "Sulawesi",
         "sku 141",
         "296558.5",
         "1",
         "2019"
        ],
        [
         "38",
         "1/1/2019",
         "Sulawesi",
         "sku 341",
         "161375.3",
         "1",
         "2019"
        ],
        [
         "39",
         "1/1/2019",
         "Sulawesi",
         "sku12",
         "4331.0",
         "1",
         "2019"
        ],
        [
         "40",
         "1/1/2019",
         "Sulawesi",
         "sku43",
         "2350.9",
         "1",
         "2019"
        ],
        [
         "42",
         "1/1/2019",
         "Sulawesi",
         "sku6543",
         "9701.4",
         "1",
         "2019"
        ],
        [
         "43",
         "1/1/2019",
         "Sulawesi",
         "sku6544",
         "703.8",
         "1",
         "2019"
        ],
        [
         "44",
         "1/1/2019",
         "Sulawesi",
         "sku76",
         "23465.3",
         "1",
         "2019"
        ],
        [
         "45",
         "1/1/2019",
         "Sulawesi",
         "sku788",
         "2516.7",
         "1",
         "2019"
        ],
        [
         "46",
         "1/1/2019",
         "Sulawesi",
         "sku87",
         "4331.0",
         "1",
         "2019"
        ],
        [
         "47",
         "1/1/2019",
         "Sumatera",
         "SKU12354",
         "17144.0",
         "1",
         "2019"
        ],
        [
         "48",
         "1/1/2019",
         "Sumatera",
         "sku 141",
         "253622.5",
         "1",
         "2019"
        ],
        [
         "49",
         "1/1/2019",
         "Sumatera",
         "sku 341",
         "120041.0",
         "1",
         "2019"
        ],
        [
         "50",
         "1/1/2019",
         "Sumatera",
         "sku12",
         "1623.4",
         "1",
         "2019"
        ],
        [
         "51",
         "1/1/2019",
         "Sumatera",
         "sku43",
         "4235.7",
         "1",
         "2019"
        ],
        [
         "53",
         "1/1/2019",
         "Sumatera",
         "sku6543",
         "2730.1",
         "1",
         "2019"
        ],
        [
         "54",
         "1/1/2019",
         "Sumatera",
         "sku6544",
         "1995.2",
         "1",
         "2019"
        ]
       ],
       "shape": {
        "columns": 6,
        "rows": 2023
       }
      },
      "text/html": [
       "<div>\n",
       "<style scoped>\n",
       "    .dataframe tbody tr th:only-of-type {\n",
       "        vertical-align: middle;\n",
       "    }\n",
       "\n",
       "    .dataframe tbody tr th {\n",
       "        vertical-align: top;\n",
       "    }\n",
       "\n",
       "    .dataframe thead th {\n",
       "        text-align: right;\n",
       "    }\n",
       "</style>\n",
       "<table border=\"1\" class=\"dataframe\">\n",
       "  <thead>\n",
       "    <tr style=\"text-align: right;\">\n",
       "      <th></th>\n",
       "      <th>period</th>\n",
       "      <th>region</th>\n",
       "      <th>sku</th>\n",
       "      <th>sales amount</th>\n",
       "      <th>month</th>\n",
       "      <th>year</th>\n",
       "    </tr>\n",
       "  </thead>\n",
       "  <tbody>\n",
       "    <tr>\n",
       "      <th>0</th>\n",
       "      <td>1/1/2019</td>\n",
       "      <td>Indonesia</td>\n",
       "      <td>SKU12354</td>\n",
       "      <td>104741.1</td>\n",
       "      <td>1</td>\n",
       "      <td>2019</td>\n",
       "    </tr>\n",
       "    <tr>\n",
       "      <th>1</th>\n",
       "      <td>1/1/2019</td>\n",
       "      <td>Indonesia</td>\n",
       "      <td>sku 141</td>\n",
       "      <td>1534653.4</td>\n",
       "      <td>1</td>\n",
       "      <td>2019</td>\n",
       "    </tr>\n",
       "    <tr>\n",
       "      <th>2</th>\n",
       "      <td>1/1/2019</td>\n",
       "      <td>Indonesia</td>\n",
       "      <td>sku 341</td>\n",
       "      <td>747891.9</td>\n",
       "      <td>1</td>\n",
       "      <td>2019</td>\n",
       "    </tr>\n",
       "    <tr>\n",
       "      <th>3</th>\n",
       "      <td>1/1/2019</td>\n",
       "      <td>Indonesia</td>\n",
       "      <td>sku12</td>\n",
       "      <td>62249.1</td>\n",
       "      <td>1</td>\n",
       "      <td>2019</td>\n",
       "    </tr>\n",
       "    <tr>\n",
       "      <th>4</th>\n",
       "      <td>1/1/2019</td>\n",
       "      <td>Indonesia</td>\n",
       "      <td>sku43</td>\n",
       "      <td>8457.7</td>\n",
       "      <td>1</td>\n",
       "      <td>2019</td>\n",
       "    </tr>\n",
       "    <tr>\n",
       "      <th>...</th>\n",
       "      <td>...</td>\n",
       "      <td>...</td>\n",
       "      <td>...</td>\n",
       "      <td>...</td>\n",
       "      <td>...</td>\n",
       "      <td>...</td>\n",
       "    </tr>\n",
       "    <tr>\n",
       "      <th>2141</th>\n",
       "      <td>9/1/2021</td>\n",
       "      <td>Sumatera</td>\n",
       "      <td>sku6543</td>\n",
       "      <td>2734.9</td>\n",
       "      <td>9</td>\n",
       "      <td>2021</td>\n",
       "    </tr>\n",
       "    <tr>\n",
       "      <th>2142</th>\n",
       "      <td>9/1/2021</td>\n",
       "      <td>Sumatera</td>\n",
       "      <td>sku6544</td>\n",
       "      <td>2163.8</td>\n",
       "      <td>9</td>\n",
       "      <td>2021</td>\n",
       "    </tr>\n",
       "    <tr>\n",
       "      <th>2143</th>\n",
       "      <td>9/1/2021</td>\n",
       "      <td>Sumatera</td>\n",
       "      <td>sku76</td>\n",
       "      <td>28365.0</td>\n",
       "      <td>9</td>\n",
       "      <td>2021</td>\n",
       "    </tr>\n",
       "    <tr>\n",
       "      <th>2144</th>\n",
       "      <td>9/1/2021</td>\n",
       "      <td>Sumatera</td>\n",
       "      <td>sku788</td>\n",
       "      <td>2520.4</td>\n",
       "      <td>9</td>\n",
       "      <td>2021</td>\n",
       "    </tr>\n",
       "    <tr>\n",
       "      <th>2145</th>\n",
       "      <td>9/1/2021</td>\n",
       "      <td>Sumatera</td>\n",
       "      <td>sku87</td>\n",
       "      <td>3176.6</td>\n",
       "      <td>9</td>\n",
       "      <td>2021</td>\n",
       "    </tr>\n",
       "  </tbody>\n",
       "</table>\n",
       "<p>2023 rows × 6 columns</p>\n",
       "</div>"
      ],
      "text/plain": [
       "        period     region       sku  sales amount  month  year\n",
       "0     1/1/2019  Indonesia  SKU12354      104741.1      1  2019\n",
       "1     1/1/2019  Indonesia   sku 141     1534653.4      1  2019\n",
       "2     1/1/2019  Indonesia   sku 341      747891.9      1  2019\n",
       "3     1/1/2019  Indonesia     sku12       62249.1      1  2019\n",
       "4     1/1/2019  Indonesia     sku43        8457.7      1  2019\n",
       "...        ...        ...       ...           ...    ...   ...\n",
       "2141  9/1/2021   Sumatera   sku6543        2734.9      9  2021\n",
       "2142  9/1/2021   Sumatera   sku6544        2163.8      9  2021\n",
       "2143  9/1/2021   Sumatera     sku76       28365.0      9  2021\n",
       "2144  9/1/2021   Sumatera    sku788        2520.4      9  2021\n",
       "2145  9/1/2021   Sumatera     sku87        3176.6      9  2021\n",
       "\n",
       "[2023 rows x 6 columns]"
      ]
     },
     "execution_count": 935,
     "metadata": {},
     "output_type": "execute_result"
    }
   ],
   "source": [
    "data_group"
   ]
  },
  {
   "cell_type": "markdown",
   "id": "37301460",
   "metadata": {},
   "source": [
    "#### feature engineriing"
   ]
  },
  {
   "cell_type": "markdown",
   "id": "2a6f6607",
   "metadata": {},
   "source": [
    "convert categorcal data to numeric"
   ]
  },
  {
   "cell_type": "code",
   "execution_count": 990,
   "id": "e3240f2b",
   "metadata": {},
   "outputs": [],
   "source": [
    "data_group  = pd.get_dummies(data_group, columns=['region'], prefix='region')"
   ]
  },
  {
   "cell_type": "code",
   "execution_count": 938,
   "id": "ab11448b",
   "metadata": {},
   "outputs": [],
   "source": [
    "col_region = [x for x in data2.columns if x.split('_')[0] =='region']"
   ]
  },
  {
   "cell_type": "code",
   "execution_count": 939,
   "id": "9c98c828",
   "metadata": {},
   "outputs": [],
   "source": [
    "data_group  = pd.get_dummies(data_group, columns=['sku'], prefix='sku')"
   ]
  },
  {
   "cell_type": "code",
   "execution_count": 940,
   "id": "221dfd4b",
   "metadata": {},
   "outputs": [
    {
     "data": {
      "text/plain": [
       "Index(['period', 'sales amount', 'month', 'year', 'region_Indonesia',\n",
       "       'region_Jakarta', 'region_Java', 'region_Sulawesi', 'region_Sumatera',\n",
       "       'sku_SKU12354', 'sku_sku 141', 'sku_sku 341', 'sku_sku12', 'sku_sku43',\n",
       "       'sku_sku555', 'sku_sku556', 'sku_sku557', 'sku_sku6543', 'sku_sku6544',\n",
       "       'sku_sku6545', 'sku_sku76', 'sku_sku788', 'sku_sku87'],\n",
       "      dtype='object')"
      ]
     },
     "execution_count": 940,
     "metadata": {},
     "output_type": "execute_result"
    }
   ],
   "source": [
    "data_group.columns"
   ]
  },
  {
   "cell_type": "code",
   "execution_count": 941,
   "id": "df865a08",
   "metadata": {},
   "outputs": [],
   "source": [
    "col_sku = [x for x in data_group.columns if x.split('_')[0]=='sku']"
   ]
  },
  {
   "cell_type": "markdown",
   "id": "830d7530",
   "metadata": {},
   "source": [
    "#### def sequence function "
   ]
  },
  {
   "cell_type": "markdown",
   "id": "af6e623a",
   "metadata": {},
   "source": [
    "sec data will be use for RNN/LSTM model"
   ]
  },
  {
   "cell_type": "code",
   "execution_count": 942,
   "id": "37b8f2ce",
   "metadata": {},
   "outputs": [],
   "source": [
    "def create_data_sequence(X, y, time_steps=1):\n",
    "    \"\"\" Create data sequence\n",
    "    \n",
    "    Arguments:\n",
    "        * X: time-series data\n",
    "        * y: Count \"cnt\" value\n",
    "        * time_steps: Used to create input sequence of timesteps\n",
    "    \n",
    "    Returns:\n",
    "        * input_sequence: Numpy array of sequences of time-series data\n",
    "        * output: Numpy array of output i.e. next value for respective sequence\n",
    "    \n",
    "    \"\"\"\n",
    "    input_sequence, output = [], []\n",
    "    for i in range(len(X) - time_steps):\n",
    "        sequence = X.iloc[i:(i + time_steps)].values\n",
    "        input_sequence.append(sequence)        \n",
    "        output.append(y.iloc[i + time_steps])\n",
    "    return np.array(input_sequence), np.array(output)"
   ]
  },
  {
   "cell_type": "markdown",
   "id": "632c1ac6",
   "metadata": {},
   "source": [
    "time step 12 because the data is monthly data"
   ]
  },
  {
   "cell_type": "code",
   "execution_count": 943,
   "id": "b0140944",
   "metadata": {},
   "outputs": [],
   "source": [
    "time_steps = 12"
   ]
  },
  {
   "cell_type": "markdown",
   "id": "31b1aa91",
   "metadata": {},
   "source": [
    "def the model data using keras LSTM the loss using MSe because not particulary there is much extreme outlier"
   ]
  },
  {
   "cell_type": "code",
   "execution_count": 944,
   "id": "ffee2493",
   "metadata": {},
   "outputs": [],
   "source": [
    "def machine_learning_model():\n",
    "    \"\"\"Defines machine learning model\n",
    "    \n",
    "    Returns:\n",
    "        * model: LSTM model\n",
    "    \n",
    "    \"\"\"\n",
    "    model = keras.Sequential()\n",
    "    model.add(keras.layers.LSTM(units=128,input_shape=(training_set_sequence.shape[1], training_set_sequence.shape[2])))\n",
    "    model.add(keras.layers.Dropout(rate=0.2))\n",
    "    model.add(keras.layers.Dense(units=1))\n",
    "    model.compile(loss='mean_squared_error', optimizer='Adam')\n",
    "    model.summary()\n",
    "    return model"
   ]
  },
  {
   "cell_type": "code",
   "execution_count": 945,
   "id": "cc9b8474",
   "metadata": {},
   "outputs": [
    {
     "name": "stderr",
     "output_type": "stream",
     "text": [
      "c:\\Users\\cbcbx\\anaconda3\\Lib\\site-packages\\keras\\src\\layers\\rnn\\rnn.py:199: UserWarning: Do not pass an `input_shape`/`input_dim` argument to a layer. When using Sequential models, prefer using an `Input(shape)` object as the first layer in the model instead.\n",
      "  super().__init__(**kwargs)\n"
     ]
    },
    {
     "data": {
      "text/html": [
       "<pre style=\"white-space:pre;overflow-x:auto;line-height:normal;font-family:Menlo,'DejaVu Sans Mono',consolas,'Courier New',monospace\"><span style=\"font-weight: bold\">Model: \"sequential_26\"</span>\n",
       "</pre>\n"
      ],
      "text/plain": [
       "\u001b[1mModel: \"sequential_26\"\u001b[0m\n"
      ]
     },
     "metadata": {},
     "output_type": "display_data"
    },
    {
     "data": {
      "text/html": [
       "<pre style=\"white-space:pre;overflow-x:auto;line-height:normal;font-family:Menlo,'DejaVu Sans Mono',consolas,'Courier New',monospace\">┏━━━━━━━━━━━━━━━━━━━━━━━━━━━━━━━━━┳━━━━━━━━━━━━━━━━━━━━━━━━┳━━━━━━━━━━━━━━━┓\n",
       "┃<span style=\"font-weight: bold\"> Layer (type)                    </span>┃<span style=\"font-weight: bold\"> Output Shape           </span>┃<span style=\"font-weight: bold\">       Param # </span>┃\n",
       "┡━━━━━━━━━━━━━━━━━━━━━━━━━━━━━━━━━╇━━━━━━━━━━━━━━━━━━━━━━━━╇━━━━━━━━━━━━━━━┩\n",
       "│ lstm_26 (<span style=\"color: #0087ff; text-decoration-color: #0087ff\">LSTM</span>)                  │ (<span style=\"color: #00d7ff; text-decoration-color: #00d7ff\">None</span>, <span style=\"color: #00af00; text-decoration-color: #00af00\">128</span>)            │        <span style=\"color: #00af00; text-decoration-color: #00af00\">77,312</span> │\n",
       "├─────────────────────────────────┼────────────────────────┼───────────────┤\n",
       "│ dropout_26 (<span style=\"color: #0087ff; text-decoration-color: #0087ff\">Dropout</span>)            │ (<span style=\"color: #00d7ff; text-decoration-color: #00d7ff\">None</span>, <span style=\"color: #00af00; text-decoration-color: #00af00\">128</span>)            │             <span style=\"color: #00af00; text-decoration-color: #00af00\">0</span> │\n",
       "├─────────────────────────────────┼────────────────────────┼───────────────┤\n",
       "│ dense_26 (<span style=\"color: #0087ff; text-decoration-color: #0087ff\">Dense</span>)                │ (<span style=\"color: #00d7ff; text-decoration-color: #00d7ff\">None</span>, <span style=\"color: #00af00; text-decoration-color: #00af00\">1</span>)              │           <span style=\"color: #00af00; text-decoration-color: #00af00\">129</span> │\n",
       "└─────────────────────────────────┴────────────────────────┴───────────────┘\n",
       "</pre>\n"
      ],
      "text/plain": [
       "┏━━━━━━━━━━━━━━━━━━━━━━━━━━━━━━━━━┳━━━━━━━━━━━━━━━━━━━━━━━━┳━━━━━━━━━━━━━━━┓\n",
       "┃\u001b[1m \u001b[0m\u001b[1mLayer (type)                   \u001b[0m\u001b[1m \u001b[0m┃\u001b[1m \u001b[0m\u001b[1mOutput Shape          \u001b[0m\u001b[1m \u001b[0m┃\u001b[1m \u001b[0m\u001b[1m      Param #\u001b[0m\u001b[1m \u001b[0m┃\n",
       "┡━━━━━━━━━━━━━━━━━━━━━━━━━━━━━━━━━╇━━━━━━━━━━━━━━━━━━━━━━━━╇━━━━━━━━━━━━━━━┩\n",
       "│ lstm_26 (\u001b[38;5;33mLSTM\u001b[0m)                  │ (\u001b[38;5;45mNone\u001b[0m, \u001b[38;5;34m128\u001b[0m)            │        \u001b[38;5;34m77,312\u001b[0m │\n",
       "├─────────────────────────────────┼────────────────────────┼───────────────┤\n",
       "│ dropout_26 (\u001b[38;5;33mDropout\u001b[0m)            │ (\u001b[38;5;45mNone\u001b[0m, \u001b[38;5;34m128\u001b[0m)            │             \u001b[38;5;34m0\u001b[0m │\n",
       "├─────────────────────────────────┼────────────────────────┼───────────────┤\n",
       "│ dense_26 (\u001b[38;5;33mDense\u001b[0m)                │ (\u001b[38;5;45mNone\u001b[0m, \u001b[38;5;34m1\u001b[0m)              │           \u001b[38;5;34m129\u001b[0m │\n",
       "└─────────────────────────────────┴────────────────────────┴───────────────┘\n"
      ]
     },
     "metadata": {},
     "output_type": "display_data"
    },
    {
     "data": {
      "text/html": [
       "<pre style=\"white-space:pre;overflow-x:auto;line-height:normal;font-family:Menlo,'DejaVu Sans Mono',consolas,'Courier New',monospace\"><span style=\"font-weight: bold\"> Total params: </span><span style=\"color: #00af00; text-decoration-color: #00af00\">77,441</span> (302.50 KB)\n",
       "</pre>\n"
      ],
      "text/plain": [
       "\u001b[1m Total params: \u001b[0m\u001b[38;5;34m77,441\u001b[0m (302.50 KB)\n"
      ]
     },
     "metadata": {},
     "output_type": "display_data"
    },
    {
     "data": {
      "text/html": [
       "<pre style=\"white-space:pre;overflow-x:auto;line-height:normal;font-family:Menlo,'DejaVu Sans Mono',consolas,'Courier New',monospace\"><span style=\"font-weight: bold\"> Trainable params: </span><span style=\"color: #00af00; text-decoration-color: #00af00\">77,441</span> (302.50 KB)\n",
       "</pre>\n"
      ],
      "text/plain": [
       "\u001b[1m Trainable params: \u001b[0m\u001b[38;5;34m77,441\u001b[0m (302.50 KB)\n"
      ]
     },
     "metadata": {},
     "output_type": "display_data"
    },
    {
     "data": {
      "text/html": [
       "<pre style=\"white-space:pre;overflow-x:auto;line-height:normal;font-family:Menlo,'DejaVu Sans Mono',consolas,'Courier New',monospace\"><span style=\"font-weight: bold\"> Non-trainable params: </span><span style=\"color: #00af00; text-decoration-color: #00af00\">0</span> (0.00 B)\n",
       "</pre>\n"
      ],
      "text/plain": [
       "\u001b[1m Non-trainable params: \u001b[0m\u001b[38;5;34m0\u001b[0m (0.00 B)\n"
      ]
     },
     "metadata": {},
     "output_type": "display_data"
    }
   ],
   "source": [
    "model = machine_learning_model()"
   ]
  },
  {
   "cell_type": "code",
   "execution_count": 946,
   "id": "7a671b0e",
   "metadata": {},
   "outputs": [
    {
     "data": {
      "application/vnd.microsoft.datawrangler.viewer.v0+json": {
       "columns": [
        {
         "name": "index",
         "rawType": "int64",
         "type": "integer"
        },
        {
         "name": "period",
         "rawType": "object",
         "type": "string"
        },
        {
         "name": "sales amount",
         "rawType": "float64",
         "type": "float"
        },
        {
         "name": "month",
         "rawType": "int32",
         "type": "integer"
        },
        {
         "name": "year",
         "rawType": "int32",
         "type": "integer"
        },
        {
         "name": "region_Indonesia",
         "rawType": "bool",
         "type": "boolean"
        },
        {
         "name": "region_Jakarta",
         "rawType": "bool",
         "type": "boolean"
        },
        {
         "name": "region_Java",
         "rawType": "bool",
         "type": "boolean"
        },
        {
         "name": "region_Sulawesi",
         "rawType": "bool",
         "type": "boolean"
        },
        {
         "name": "region_Sumatera",
         "rawType": "bool",
         "type": "boolean"
        },
        {
         "name": "sku_SKU12354",
         "rawType": "bool",
         "type": "boolean"
        },
        {
         "name": "sku_sku 141",
         "rawType": "bool",
         "type": "boolean"
        },
        {
         "name": "sku_sku 341",
         "rawType": "bool",
         "type": "boolean"
        },
        {
         "name": "sku_sku12",
         "rawType": "bool",
         "type": "boolean"
        },
        {
         "name": "sku_sku43",
         "rawType": "bool",
         "type": "boolean"
        },
        {
         "name": "sku_sku555",
         "rawType": "bool",
         "type": "boolean"
        },
        {
         "name": "sku_sku556",
         "rawType": "bool",
         "type": "boolean"
        },
        {
         "name": "sku_sku557",
         "rawType": "bool",
         "type": "boolean"
        },
        {
         "name": "sku_sku6543",
         "rawType": "bool",
         "type": "boolean"
        },
        {
         "name": "sku_sku6544",
         "rawType": "bool",
         "type": "boolean"
        },
        {
         "name": "sku_sku6545",
         "rawType": "bool",
         "type": "boolean"
        },
        {
         "name": "sku_sku76",
         "rawType": "bool",
         "type": "boolean"
        },
        {
         "name": "sku_sku788",
         "rawType": "bool",
         "type": "boolean"
        },
        {
         "name": "sku_sku87",
         "rawType": "bool",
         "type": "boolean"
        }
       ],
       "ref": "92d9618a-c755-4858-a292-402adf9d48bd",
       "rows": [
        [
         "0",
         "1/1/2019",
         "104741.1",
         "1",
         "2019",
         "True",
         "False",
         "False",
         "False",
         "False",
         "True",
         "False",
         "False",
         "False",
         "False",
         "False",
         "False",
         "False",
         "False",
         "False",
         "False",
         "False",
         "False",
         "False"
        ],
        [
         "1",
         "1/1/2019",
         "1534653.4",
         "1",
         "2019",
         "True",
         "False",
         "False",
         "False",
         "False",
         "False",
         "True",
         "False",
         "False",
         "False",
         "False",
         "False",
         "False",
         "False",
         "False",
         "False",
         "False",
         "False",
         "False"
        ],
        [
         "2",
         "1/1/2019",
         "747891.9",
         "1",
         "2019",
         "True",
         "False",
         "False",
         "False",
         "False",
         "False",
         "False",
         "True",
         "False",
         "False",
         "False",
         "False",
         "False",
         "False",
         "False",
         "False",
         "False",
         "False",
         "False"
        ],
        [
         "3",
         "1/1/2019",
         "62249.1",
         "1",
         "2019",
         "True",
         "False",
         "False",
         "False",
         "False",
         "False",
         "False",
         "False",
         "True",
         "False",
         "False",
         "False",
         "False",
         "False",
         "False",
         "False",
         "False",
         "False",
         "False"
        ],
        [
         "4",
         "1/1/2019",
         "8457.7",
         "1",
         "2019",
         "True",
         "False",
         "False",
         "False",
         "False",
         "False",
         "False",
         "False",
         "False",
         "True",
         "False",
         "False",
         "False",
         "False",
         "False",
         "False",
         "False",
         "False",
         "False"
        ],
        [
         "6",
         "1/1/2019",
         "8457.7",
         "1",
         "2019",
         "True",
         "False",
         "False",
         "False",
         "False",
         "False",
         "False",
         "False",
         "False",
         "False",
         "False",
         "True",
         "False",
         "False",
         "False",
         "False",
         "False",
         "False",
         "False"
        ],
        [
         "7",
         "1/1/2019",
         "10781.9",
         "1",
         "2019",
         "True",
         "False",
         "False",
         "False",
         "False",
         "False",
         "False",
         "False",
         "False",
         "False",
         "False",
         "False",
         "True",
         "False",
         "False",
         "False",
         "False",
         "False",
         "False"
        ],
        [
         "8",
         "1/1/2019",
         "32662.2",
         "1",
         "2019",
         "True",
         "False",
         "False",
         "False",
         "False",
         "False",
         "False",
         "False",
         "False",
         "False",
         "False",
         "False",
         "False",
         "True",
         "False",
         "False",
         "False",
         "False",
         "False"
        ],
        [
         "9",
         "1/1/2019",
         "10781.9",
         "1",
         "2019",
         "True",
         "False",
         "False",
         "False",
         "False",
         "False",
         "False",
         "False",
         "False",
         "False",
         "False",
         "False",
         "False",
         "False",
         "True",
         "False",
         "False",
         "False",
         "False"
        ],
        [
         "10",
         "1/1/2019",
         "48233.7",
         "1",
         "2019",
         "True",
         "False",
         "False",
         "False",
         "False",
         "False",
         "False",
         "False",
         "False",
         "False",
         "False",
         "False",
         "False",
         "False",
         "False",
         "True",
         "False",
         "False",
         "False"
        ],
        [
         "11",
         "1/1/2019",
         "136404.9",
         "1",
         "2019",
         "True",
         "False",
         "False",
         "False",
         "False",
         "False",
         "False",
         "False",
         "False",
         "False",
         "False",
         "False",
         "False",
         "False",
         "False",
         "False",
         "True",
         "False",
         "False"
        ],
        [
         "12",
         "1/1/2019",
         "8457.7",
         "1",
         "2019",
         "True",
         "False",
         "False",
         "False",
         "False",
         "False",
         "False",
         "False",
         "False",
         "False",
         "False",
         "False",
         "False",
         "False",
         "False",
         "False",
         "False",
         "True",
         "False"
        ],
        [
         "13",
         "1/1/2019",
         "62249.1",
         "1",
         "2019",
         "True",
         "False",
         "False",
         "False",
         "False",
         "False",
         "False",
         "False",
         "False",
         "False",
         "False",
         "False",
         "False",
         "False",
         "False",
         "False",
         "False",
         "False",
         "True"
        ],
        [
         "14",
         "1/1/2019",
         "38341.6",
         "1",
         "2019",
         "False",
         "True",
         "False",
         "False",
         "False",
         "True",
         "False",
         "False",
         "False",
         "False",
         "False",
         "False",
         "False",
         "False",
         "False",
         "False",
         "False",
         "False",
         "False"
        ],
        [
         "15",
         "1/1/2019",
         "376635.1",
         "1",
         "2019",
         "False",
         "True",
         "False",
         "False",
         "False",
         "False",
         "True",
         "False",
         "False",
         "False",
         "False",
         "False",
         "False",
         "False",
         "False",
         "False",
         "False",
         "False",
         "False"
        ],
        [
         "16",
         "1/1/2019",
         "167496.0",
         "1",
         "2019",
         "False",
         "True",
         "False",
         "False",
         "False",
         "False",
         "False",
         "True",
         "False",
         "False",
         "False",
         "False",
         "False",
         "False",
         "False",
         "False",
         "False",
         "False",
         "False"
        ],
        [
         "17",
         "1/1/2019",
         "33161.4",
         "1",
         "2019",
         "False",
         "True",
         "False",
         "False",
         "False",
         "False",
         "False",
         "False",
         "True",
         "False",
         "False",
         "False",
         "False",
         "False",
         "False",
         "False",
         "False",
         "False",
         "False"
        ],
        [
         "18",
         "1/1/2019",
         "8477.5",
         "1",
         "2019",
         "False",
         "True",
         "False",
         "False",
         "False",
         "False",
         "False",
         "False",
         "False",
         "True",
         "False",
         "False",
         "False",
         "False",
         "False",
         "False",
         "False",
         "False",
         "False"
        ],
        [
         "20",
         "1/1/2019",
         "4845.9",
         "1",
         "2019",
         "False",
         "True",
         "False",
         "False",
         "False",
         "False",
         "False",
         "False",
         "False",
         "False",
         "False",
         "False",
         "False",
         "True",
         "False",
         "False",
         "False",
         "False",
         "False"
        ],
        [
         "21",
         "1/1/2019",
         "9356.8",
         "1",
         "2019",
         "False",
         "True",
         "False",
         "False",
         "False",
         "False",
         "False",
         "False",
         "False",
         "False",
         "False",
         "False",
         "False",
         "False",
         "True",
         "False",
         "False",
         "False",
         "False"
        ],
        [
         "22",
         "1/1/2019",
         "30456.2",
         "1",
         "2019",
         "False",
         "True",
         "False",
         "False",
         "False",
         "False",
         "False",
         "False",
         "False",
         "False",
         "False",
         "False",
         "False",
         "False",
         "False",
         "False",
         "True",
         "False",
         "False"
        ],
        [
         "23",
         "1/1/2019",
         "10333.1",
         "1",
         "2019",
         "False",
         "True",
         "False",
         "False",
         "False",
         "False",
         "False",
         "False",
         "False",
         "False",
         "False",
         "False",
         "False",
         "False",
         "False",
         "False",
         "False",
         "True",
         "False"
        ],
        [
         "24",
         "1/1/2019",
         "33161.4",
         "1",
         "2019",
         "False",
         "True",
         "False",
         "False",
         "False",
         "False",
         "False",
         "False",
         "False",
         "False",
         "False",
         "False",
         "False",
         "False",
         "False",
         "False",
         "False",
         "False",
         "True"
        ],
        [
         "25",
         "1/1/2019",
         "90203.3",
         "1",
         "2019",
         "False",
         "False",
         "True",
         "False",
         "False",
         "True",
         "False",
         "False",
         "False",
         "False",
         "False",
         "False",
         "False",
         "False",
         "False",
         "False",
         "False",
         "False",
         "False"
        ],
        [
         "26",
         "1/1/2019",
         "984472.4",
         "1",
         "2019",
         "False",
         "False",
         "True",
         "False",
         "False",
         "False",
         "True",
         "False",
         "False",
         "False",
         "False",
         "False",
         "False",
         "False",
         "False",
         "False",
         "False",
         "False",
         "False"
        ],
        [
         "27",
         "1/1/2019",
         "466475.6",
         "1",
         "2019",
         "False",
         "False",
         "True",
         "False",
         "False",
         "False",
         "False",
         "True",
         "False",
         "False",
         "False",
         "False",
         "False",
         "False",
         "False",
         "False",
         "False",
         "False",
         "False"
        ],
        [
         "28",
         "1/1/2019",
         "56294.7",
         "1",
         "2019",
         "False",
         "False",
         "True",
         "False",
         "False",
         "False",
         "False",
         "False",
         "True",
         "False",
         "False",
         "False",
         "False",
         "False",
         "False",
         "False",
         "False",
         "False",
         "False"
        ],
        [
         "29",
         "1/1/2019",
         "17108.2",
         "1",
         "2019",
         "False",
         "False",
         "True",
         "False",
         "False",
         "False",
         "False",
         "False",
         "False",
         "True",
         "False",
         "False",
         "False",
         "False",
         "False",
         "False",
         "False",
         "False",
         "False"
        ],
        [
         "31",
         "1/1/2019",
         "8457.7",
         "1",
         "2019",
         "False",
         "False",
         "True",
         "False",
         "False",
         "False",
         "False",
         "False",
         "False",
         "False",
         "False",
         "False",
         "False",
         "True",
         "False",
         "False",
         "False",
         "False",
         "False"
        ],
        [
         "32",
         "1/1/2019",
         "11032.4",
         "1",
         "2019",
         "False",
         "False",
         "True",
         "False",
         "False",
         "False",
         "False",
         "False",
         "False",
         "False",
         "False",
         "False",
         "False",
         "False",
         "True",
         "False",
         "False",
         "False",
         "False"
        ],
        [
         "33",
         "1/1/2019",
         "93337.4",
         "1",
         "2019",
         "False",
         "False",
         "True",
         "False",
         "False",
         "False",
         "False",
         "False",
         "False",
         "False",
         "False",
         "False",
         "False",
         "False",
         "False",
         "False",
         "True",
         "False",
         "False"
        ],
        [
         "34",
         "1/1/2019",
         "20779.9",
         "1",
         "2019",
         "False",
         "False",
         "True",
         "False",
         "False",
         "False",
         "False",
         "False",
         "False",
         "False",
         "False",
         "False",
         "False",
         "False",
         "False",
         "False",
         "False",
         "True",
         "False"
        ],
        [
         "35",
         "1/1/2019",
         "56294.7",
         "1",
         "2019",
         "False",
         "False",
         "True",
         "False",
         "False",
         "False",
         "False",
         "False",
         "False",
         "False",
         "False",
         "False",
         "False",
         "False",
         "False",
         "False",
         "False",
         "False",
         "True"
        ],
        [
         "36",
         "1/1/2019",
         "23754.4",
         "1",
         "2019",
         "False",
         "False",
         "False",
         "True",
         "False",
         "True",
         "False",
         "False",
         "False",
         "False",
         "False",
         "False",
         "False",
         "False",
         "False",
         "False",
         "False",
         "False",
         "False"
        ],
        [
         "37",
         "1/1/2019",
         "296558.5",
         "1",
         "2019",
         "False",
         "False",
         "False",
         "True",
         "False",
         "False",
         "True",
         "False",
         "False",
         "False",
         "False",
         "False",
         "False",
         "False",
         "False",
         "False",
         "False",
         "False",
         "False"
        ],
        [
         "38",
         "1/1/2019",
         "161375.3",
         "1",
         "2019",
         "False",
         "False",
         "False",
         "True",
         "False",
         "False",
         "False",
         "True",
         "False",
         "False",
         "False",
         "False",
         "False",
         "False",
         "False",
         "False",
         "False",
         "False",
         "False"
        ],
        [
         "39",
         "1/1/2019",
         "4331.0",
         "1",
         "2019",
         "False",
         "False",
         "False",
         "True",
         "False",
         "False",
         "False",
         "False",
         "True",
         "False",
         "False",
         "False",
         "False",
         "False",
         "False",
         "False",
         "False",
         "False",
         "False"
        ],
        [
         "40",
         "1/1/2019",
         "2350.9",
         "1",
         "2019",
         "False",
         "False",
         "False",
         "True",
         "False",
         "False",
         "False",
         "False",
         "False",
         "True",
         "False",
         "False",
         "False",
         "False",
         "False",
         "False",
         "False",
         "False",
         "False"
        ],
        [
         "42",
         "1/1/2019",
         "9701.4",
         "1",
         "2019",
         "False",
         "False",
         "False",
         "True",
         "False",
         "False",
         "False",
         "False",
         "False",
         "False",
         "False",
         "False",
         "False",
         "True",
         "False",
         "False",
         "False",
         "False",
         "False"
        ],
        [
         "43",
         "1/1/2019",
         "703.8",
         "1",
         "2019",
         "False",
         "False",
         "False",
         "True",
         "False",
         "False",
         "False",
         "False",
         "False",
         "False",
         "False",
         "False",
         "False",
         "False",
         "True",
         "False",
         "False",
         "False",
         "False"
        ],
        [
         "44",
         "1/1/2019",
         "23465.3",
         "1",
         "2019",
         "False",
         "False",
         "False",
         "True",
         "False",
         "False",
         "False",
         "False",
         "False",
         "False",
         "False",
         "False",
         "False",
         "False",
         "False",
         "False",
         "True",
         "False",
         "False"
        ],
        [
         "45",
         "1/1/2019",
         "2516.7",
         "1",
         "2019",
         "False",
         "False",
         "False",
         "True",
         "False",
         "False",
         "False",
         "False",
         "False",
         "False",
         "False",
         "False",
         "False",
         "False",
         "False",
         "False",
         "False",
         "True",
         "False"
        ],
        [
         "46",
         "1/1/2019",
         "4331.0",
         "1",
         "2019",
         "False",
         "False",
         "False",
         "True",
         "False",
         "False",
         "False",
         "False",
         "False",
         "False",
         "False",
         "False",
         "False",
         "False",
         "False",
         "False",
         "False",
         "False",
         "True"
        ],
        [
         "47",
         "1/1/2019",
         "17144.0",
         "1",
         "2019",
         "False",
         "False",
         "False",
         "False",
         "True",
         "True",
         "False",
         "False",
         "False",
         "False",
         "False",
         "False",
         "False",
         "False",
         "False",
         "False",
         "False",
         "False",
         "False"
        ],
        [
         "48",
         "1/1/2019",
         "253622.5",
         "1",
         "2019",
         "False",
         "False",
         "False",
         "False",
         "True",
         "False",
         "True",
         "False",
         "False",
         "False",
         "False",
         "False",
         "False",
         "False",
         "False",
         "False",
         "False",
         "False",
         "False"
        ],
        [
         "49",
         "1/1/2019",
         "120041.0",
         "1",
         "2019",
         "False",
         "False",
         "False",
         "False",
         "True",
         "False",
         "False",
         "True",
         "False",
         "False",
         "False",
         "False",
         "False",
         "False",
         "False",
         "False",
         "False",
         "False",
         "False"
        ],
        [
         "50",
         "1/1/2019",
         "1623.4",
         "1",
         "2019",
         "False",
         "False",
         "False",
         "False",
         "True",
         "False",
         "False",
         "False",
         "True",
         "False",
         "False",
         "False",
         "False",
         "False",
         "False",
         "False",
         "False",
         "False",
         "False"
        ],
        [
         "51",
         "1/1/2019",
         "4235.7",
         "1",
         "2019",
         "False",
         "False",
         "False",
         "False",
         "True",
         "False",
         "False",
         "False",
         "False",
         "True",
         "False",
         "False",
         "False",
         "False",
         "False",
         "False",
         "False",
         "False",
         "False"
        ],
        [
         "53",
         "1/1/2019",
         "2730.1",
         "1",
         "2019",
         "False",
         "False",
         "False",
         "False",
         "True",
         "False",
         "False",
         "False",
         "False",
         "False",
         "False",
         "False",
         "False",
         "True",
         "False",
         "False",
         "False",
         "False",
         "False"
        ],
        [
         "54",
         "1/1/2019",
         "1995.2",
         "1",
         "2019",
         "False",
         "False",
         "False",
         "False",
         "True",
         "False",
         "False",
         "False",
         "False",
         "False",
         "False",
         "False",
         "False",
         "False",
         "True",
         "False",
         "False",
         "False",
         "False"
        ]
       ],
       "shape": {
        "columns": 23,
        "rows": 2023
       }
      },
      "text/html": [
       "<div>\n",
       "<style scoped>\n",
       "    .dataframe tbody tr th:only-of-type {\n",
       "        vertical-align: middle;\n",
       "    }\n",
       "\n",
       "    .dataframe tbody tr th {\n",
       "        vertical-align: top;\n",
       "    }\n",
       "\n",
       "    .dataframe thead th {\n",
       "        text-align: right;\n",
       "    }\n",
       "</style>\n",
       "<table border=\"1\" class=\"dataframe\">\n",
       "  <thead>\n",
       "    <tr style=\"text-align: right;\">\n",
       "      <th></th>\n",
       "      <th>period</th>\n",
       "      <th>sales amount</th>\n",
       "      <th>month</th>\n",
       "      <th>year</th>\n",
       "      <th>region_Indonesia</th>\n",
       "      <th>region_Jakarta</th>\n",
       "      <th>region_Java</th>\n",
       "      <th>region_Sulawesi</th>\n",
       "      <th>region_Sumatera</th>\n",
       "      <th>sku_SKU12354</th>\n",
       "      <th>...</th>\n",
       "      <th>sku_sku43</th>\n",
       "      <th>sku_sku555</th>\n",
       "      <th>sku_sku556</th>\n",
       "      <th>sku_sku557</th>\n",
       "      <th>sku_sku6543</th>\n",
       "      <th>sku_sku6544</th>\n",
       "      <th>sku_sku6545</th>\n",
       "      <th>sku_sku76</th>\n",
       "      <th>sku_sku788</th>\n",
       "      <th>sku_sku87</th>\n",
       "    </tr>\n",
       "  </thead>\n",
       "  <tbody>\n",
       "    <tr>\n",
       "      <th>0</th>\n",
       "      <td>1/1/2019</td>\n",
       "      <td>104741.1</td>\n",
       "      <td>1</td>\n",
       "      <td>2019</td>\n",
       "      <td>True</td>\n",
       "      <td>False</td>\n",
       "      <td>False</td>\n",
       "      <td>False</td>\n",
       "      <td>False</td>\n",
       "      <td>True</td>\n",
       "      <td>...</td>\n",
       "      <td>False</td>\n",
       "      <td>False</td>\n",
       "      <td>False</td>\n",
       "      <td>False</td>\n",
       "      <td>False</td>\n",
       "      <td>False</td>\n",
       "      <td>False</td>\n",
       "      <td>False</td>\n",
       "      <td>False</td>\n",
       "      <td>False</td>\n",
       "    </tr>\n",
       "    <tr>\n",
       "      <th>1</th>\n",
       "      <td>1/1/2019</td>\n",
       "      <td>1534653.4</td>\n",
       "      <td>1</td>\n",
       "      <td>2019</td>\n",
       "      <td>True</td>\n",
       "      <td>False</td>\n",
       "      <td>False</td>\n",
       "      <td>False</td>\n",
       "      <td>False</td>\n",
       "      <td>False</td>\n",
       "      <td>...</td>\n",
       "      <td>False</td>\n",
       "      <td>False</td>\n",
       "      <td>False</td>\n",
       "      <td>False</td>\n",
       "      <td>False</td>\n",
       "      <td>False</td>\n",
       "      <td>False</td>\n",
       "      <td>False</td>\n",
       "      <td>False</td>\n",
       "      <td>False</td>\n",
       "    </tr>\n",
       "    <tr>\n",
       "      <th>2</th>\n",
       "      <td>1/1/2019</td>\n",
       "      <td>747891.9</td>\n",
       "      <td>1</td>\n",
       "      <td>2019</td>\n",
       "      <td>True</td>\n",
       "      <td>False</td>\n",
       "      <td>False</td>\n",
       "      <td>False</td>\n",
       "      <td>False</td>\n",
       "      <td>False</td>\n",
       "      <td>...</td>\n",
       "      <td>False</td>\n",
       "      <td>False</td>\n",
       "      <td>False</td>\n",
       "      <td>False</td>\n",
       "      <td>False</td>\n",
       "      <td>False</td>\n",
       "      <td>False</td>\n",
       "      <td>False</td>\n",
       "      <td>False</td>\n",
       "      <td>False</td>\n",
       "    </tr>\n",
       "    <tr>\n",
       "      <th>3</th>\n",
       "      <td>1/1/2019</td>\n",
       "      <td>62249.1</td>\n",
       "      <td>1</td>\n",
       "      <td>2019</td>\n",
       "      <td>True</td>\n",
       "      <td>False</td>\n",
       "      <td>False</td>\n",
       "      <td>False</td>\n",
       "      <td>False</td>\n",
       "      <td>False</td>\n",
       "      <td>...</td>\n",
       "      <td>False</td>\n",
       "      <td>False</td>\n",
       "      <td>False</td>\n",
       "      <td>False</td>\n",
       "      <td>False</td>\n",
       "      <td>False</td>\n",
       "      <td>False</td>\n",
       "      <td>False</td>\n",
       "      <td>False</td>\n",
       "      <td>False</td>\n",
       "    </tr>\n",
       "    <tr>\n",
       "      <th>4</th>\n",
       "      <td>1/1/2019</td>\n",
       "      <td>8457.7</td>\n",
       "      <td>1</td>\n",
       "      <td>2019</td>\n",
       "      <td>True</td>\n",
       "      <td>False</td>\n",
       "      <td>False</td>\n",
       "      <td>False</td>\n",
       "      <td>False</td>\n",
       "      <td>False</td>\n",
       "      <td>...</td>\n",
       "      <td>True</td>\n",
       "      <td>False</td>\n",
       "      <td>False</td>\n",
       "      <td>False</td>\n",
       "      <td>False</td>\n",
       "      <td>False</td>\n",
       "      <td>False</td>\n",
       "      <td>False</td>\n",
       "      <td>False</td>\n",
       "      <td>False</td>\n",
       "    </tr>\n",
       "    <tr>\n",
       "      <th>...</th>\n",
       "      <td>...</td>\n",
       "      <td>...</td>\n",
       "      <td>...</td>\n",
       "      <td>...</td>\n",
       "      <td>...</td>\n",
       "      <td>...</td>\n",
       "      <td>...</td>\n",
       "      <td>...</td>\n",
       "      <td>...</td>\n",
       "      <td>...</td>\n",
       "      <td>...</td>\n",
       "      <td>...</td>\n",
       "      <td>...</td>\n",
       "      <td>...</td>\n",
       "      <td>...</td>\n",
       "      <td>...</td>\n",
       "      <td>...</td>\n",
       "      <td>...</td>\n",
       "      <td>...</td>\n",
       "      <td>...</td>\n",
       "      <td>...</td>\n",
       "    </tr>\n",
       "    <tr>\n",
       "      <th>2141</th>\n",
       "      <td>9/1/2021</td>\n",
       "      <td>2734.9</td>\n",
       "      <td>9</td>\n",
       "      <td>2021</td>\n",
       "      <td>False</td>\n",
       "      <td>False</td>\n",
       "      <td>False</td>\n",
       "      <td>False</td>\n",
       "      <td>True</td>\n",
       "      <td>False</td>\n",
       "      <td>...</td>\n",
       "      <td>False</td>\n",
       "      <td>False</td>\n",
       "      <td>False</td>\n",
       "      <td>False</td>\n",
       "      <td>True</td>\n",
       "      <td>False</td>\n",
       "      <td>False</td>\n",
       "      <td>False</td>\n",
       "      <td>False</td>\n",
       "      <td>False</td>\n",
       "    </tr>\n",
       "    <tr>\n",
       "      <th>2142</th>\n",
       "      <td>9/1/2021</td>\n",
       "      <td>2163.8</td>\n",
       "      <td>9</td>\n",
       "      <td>2021</td>\n",
       "      <td>False</td>\n",
       "      <td>False</td>\n",
       "      <td>False</td>\n",
       "      <td>False</td>\n",
       "      <td>True</td>\n",
       "      <td>False</td>\n",
       "      <td>...</td>\n",
       "      <td>False</td>\n",
       "      <td>False</td>\n",
       "      <td>False</td>\n",
       "      <td>False</td>\n",
       "      <td>False</td>\n",
       "      <td>True</td>\n",
       "      <td>False</td>\n",
       "      <td>False</td>\n",
       "      <td>False</td>\n",
       "      <td>False</td>\n",
       "    </tr>\n",
       "    <tr>\n",
       "      <th>2143</th>\n",
       "      <td>9/1/2021</td>\n",
       "      <td>28365.0</td>\n",
       "      <td>9</td>\n",
       "      <td>2021</td>\n",
       "      <td>False</td>\n",
       "      <td>False</td>\n",
       "      <td>False</td>\n",
       "      <td>False</td>\n",
       "      <td>True</td>\n",
       "      <td>False</td>\n",
       "      <td>...</td>\n",
       "      <td>False</td>\n",
       "      <td>False</td>\n",
       "      <td>False</td>\n",
       "      <td>False</td>\n",
       "      <td>False</td>\n",
       "      <td>False</td>\n",
       "      <td>False</td>\n",
       "      <td>True</td>\n",
       "      <td>False</td>\n",
       "      <td>False</td>\n",
       "    </tr>\n",
       "    <tr>\n",
       "      <th>2144</th>\n",
       "      <td>9/1/2021</td>\n",
       "      <td>2520.4</td>\n",
       "      <td>9</td>\n",
       "      <td>2021</td>\n",
       "      <td>False</td>\n",
       "      <td>False</td>\n",
       "      <td>False</td>\n",
       "      <td>False</td>\n",
       "      <td>True</td>\n",
       "      <td>False</td>\n",
       "      <td>...</td>\n",
       "      <td>False</td>\n",
       "      <td>False</td>\n",
       "      <td>False</td>\n",
       "      <td>False</td>\n",
       "      <td>False</td>\n",
       "      <td>False</td>\n",
       "      <td>False</td>\n",
       "      <td>False</td>\n",
       "      <td>True</td>\n",
       "      <td>False</td>\n",
       "    </tr>\n",
       "    <tr>\n",
       "      <th>2145</th>\n",
       "      <td>9/1/2021</td>\n",
       "      <td>3176.6</td>\n",
       "      <td>9</td>\n",
       "      <td>2021</td>\n",
       "      <td>False</td>\n",
       "      <td>False</td>\n",
       "      <td>False</td>\n",
       "      <td>False</td>\n",
       "      <td>True</td>\n",
       "      <td>False</td>\n",
       "      <td>...</td>\n",
       "      <td>False</td>\n",
       "      <td>False</td>\n",
       "      <td>False</td>\n",
       "      <td>False</td>\n",
       "      <td>False</td>\n",
       "      <td>False</td>\n",
       "      <td>False</td>\n",
       "      <td>False</td>\n",
       "      <td>False</td>\n",
       "      <td>True</td>\n",
       "    </tr>\n",
       "  </tbody>\n",
       "</table>\n",
       "<p>2023 rows × 23 columns</p>\n",
       "</div>"
      ],
      "text/plain": [
       "        period  sales amount  month  year  region_Indonesia  region_Jakarta  \\\n",
       "0     1/1/2019      104741.1      1  2019              True           False   \n",
       "1     1/1/2019     1534653.4      1  2019              True           False   \n",
       "2     1/1/2019      747891.9      1  2019              True           False   \n",
       "3     1/1/2019       62249.1      1  2019              True           False   \n",
       "4     1/1/2019        8457.7      1  2019              True           False   \n",
       "...        ...           ...    ...   ...               ...             ...   \n",
       "2141  9/1/2021        2734.9      9  2021             False           False   \n",
       "2142  9/1/2021        2163.8      9  2021             False           False   \n",
       "2143  9/1/2021       28365.0      9  2021             False           False   \n",
       "2144  9/1/2021        2520.4      9  2021             False           False   \n",
       "2145  9/1/2021        3176.6      9  2021             False           False   \n",
       "\n",
       "      region_Java  region_Sulawesi  region_Sumatera  sku_SKU12354  ...  \\\n",
       "0           False            False            False          True  ...   \n",
       "1           False            False            False         False  ...   \n",
       "2           False            False            False         False  ...   \n",
       "3           False            False            False         False  ...   \n",
       "4           False            False            False         False  ...   \n",
       "...           ...              ...              ...           ...  ...   \n",
       "2141        False            False             True         False  ...   \n",
       "2142        False            False             True         False  ...   \n",
       "2143        False            False             True         False  ...   \n",
       "2144        False            False             True         False  ...   \n",
       "2145        False            False             True         False  ...   \n",
       "\n",
       "      sku_sku43  sku_sku555  sku_sku556  sku_sku557  sku_sku6543  sku_sku6544  \\\n",
       "0         False       False       False       False        False        False   \n",
       "1         False       False       False       False        False        False   \n",
       "2         False       False       False       False        False        False   \n",
       "3         False       False       False       False        False        False   \n",
       "4          True       False       False       False        False        False   \n",
       "...         ...         ...         ...         ...          ...          ...   \n",
       "2141      False       False       False       False         True        False   \n",
       "2142      False       False       False       False        False         True   \n",
       "2143      False       False       False       False        False        False   \n",
       "2144      False       False       False       False        False        False   \n",
       "2145      False       False       False       False        False        False   \n",
       "\n",
       "      sku_sku6545  sku_sku76  sku_sku788  sku_sku87  \n",
       "0           False      False       False      False  \n",
       "1           False      False       False      False  \n",
       "2           False      False       False      False  \n",
       "3           False      False       False      False  \n",
       "4           False      False       False      False  \n",
       "...           ...        ...         ...        ...  \n",
       "2141        False      False       False      False  \n",
       "2142        False      False       False      False  \n",
       "2143        False       True       False      False  \n",
       "2144        False      False        True      False  \n",
       "2145        False      False       False       True  \n",
       "\n",
       "[2023 rows x 23 columns]"
      ]
     },
     "execution_count": 946,
     "metadata": {},
     "output_type": "execute_result"
    }
   ],
   "source": [
    "data_group"
   ]
  },
  {
   "cell_type": "code",
   "execution_count": 947,
   "id": "441164ee",
   "metadata": {},
   "outputs": [],
   "source": [
    "for i in col_region:\n",
    "    data_group[i] = [int(x) for x in data_group[i]]"
   ]
  },
  {
   "cell_type": "code",
   "execution_count": 948,
   "id": "3c0a47d7",
   "metadata": {},
   "outputs": [],
   "source": [
    "for i in col_sku:\n",
    "    data_group[i] = [int(x) for x in data_group[i]]"
   ]
  },
  {
   "cell_type": "code",
   "execution_count": 949,
   "id": "64231caa",
   "metadata": {},
   "outputs": [],
   "source": [
    "data_group =data_group.set_index('period')"
   ]
  },
  {
   "cell_type": "code",
   "execution_count": 950,
   "id": "e8e82e24",
   "metadata": {},
   "outputs": [
    {
     "data": {
      "text/plain": [
       "Index(['sales amount', 'month', 'year', 'region_Indonesia', 'region_Jakarta',\n",
       "       'region_Java', 'region_Sulawesi', 'region_Sumatera', 'sku_SKU12354',\n",
       "       'sku_sku 141', 'sku_sku 341', 'sku_sku12', 'sku_sku43', 'sku_sku555',\n",
       "       'sku_sku556', 'sku_sku557', 'sku_sku6543', 'sku_sku6544', 'sku_sku6545',\n",
       "       'sku_sku76', 'sku_sku788', 'sku_sku87'],\n",
       "      dtype='object')"
      ]
     },
     "execution_count": 950,
     "metadata": {},
     "output_type": "execute_result"
    }
   ],
   "source": [
    "data_group.columns"
   ]
  },
  {
   "cell_type": "markdown",
   "id": "249f4fee",
   "metadata": {},
   "source": [
    "#### create training and testing data"
   ]
  },
  {
   "cell_type": "markdown",
   "id": "ffa596d7",
   "metadata": {},
   "source": [
    "testing data use the latest data for validation that the model can predict the future"
   ]
  },
  {
   "cell_type": "code",
   "execution_count": 951,
   "id": "0cc93ab2",
   "metadata": {},
   "outputs": [
    {
     "name": "stdout",
     "output_type": "stream",
     "text": [
      "Length of training set is 1517\n",
      "Length of test set is 506\n"
     ]
    }
   ],
   "source": [
    "training_set_size = int(len(data_group)*0.75)\n",
    "test_set_size = len(data_group)-training_set_size\n",
    "training_set,test_set = data_group.iloc[0:training_set_size],data_group.iloc[training_set_size:len(data)]\n",
    "print(\"Length of training set is\", len(training_set))    \n",
    "print(\"Length of test set is\",len(test_set))\n",
    "\n",
    "    "
   ]
  },
  {
   "cell_type": "markdown",
   "id": "307f3782",
   "metadata": {},
   "source": [
    "create thesequence data"
   ]
  },
  {
   "cell_type": "code",
   "execution_count": 952,
   "id": "15af1cf5",
   "metadata": {},
   "outputs": [],
   "source": [
    "cnt_transformer = StandardScaler().fit(training_set[['sales amount']])\n",
    "yearscaler = MinMaxScaler().fit(training_set[['year']])\n",
    "training_set['cnt'] = cnt_transformer.transform(training_set[['sales amount']])\n",
    "training_set['year'] = yearscaler.transform(training_set[['year']])\n",
    "training_set = training_set.drop(columns='sales amount')\n",
    "test_set['cnt'] = cnt_transformer.transform(test_set[['sales amount']])\n",
    "test_set['year'] = yearscaler.transform(test_set[['year']])\n",
    "test_set = test_set.drop(columns='sales amount')\n",
    "training_set_sequence, training_set_output = create_data_sequence(training_set, training_set.cnt, time_steps)\n",
    "test_set_sequence, test_set_output = create_data_sequence(test_set, test_set.cnt, time_steps)"
   ]
  },
  {
   "cell_type": "code",
   "execution_count": 953,
   "id": "51df7bbe",
   "metadata": {},
   "outputs": [
    {
     "name": "stdout",
     "output_type": "stream",
     "text": [
      "1517\n"
     ]
    }
   ],
   "source": [
    "print(len(training_set))"
   ]
  },
  {
   "cell_type": "code",
   "execution_count": 954,
   "id": "65af6fc8",
   "metadata": {},
   "outputs": [
    {
     "data": {
      "text/plain": [
       "array([[ 1.        ,  0.        ,  1.        ,  0.        ,  0.        ,\n",
       "         0.        ,  0.        ,  1.        ,  0.        ,  0.        ,\n",
       "         0.        ,  0.        ,  0.        ,  0.        ,  0.        ,\n",
       "         0.        ,  0.        ,  0.        ,  0.        ,  0.        ,\n",
       "         0.        , -0.01387297],\n",
       "       [ 1.        ,  0.        ,  1.        ,  0.        ,  0.        ,\n",
       "         0.        ,  0.        ,  0.        ,  1.        ,  0.        ,\n",
       "         0.        ,  0.        ,  0.        ,  0.        ,  0.        ,\n",
       "         0.        ,  0.        ,  0.        ,  0.        ,  0.        ,\n",
       "         0.        ,  5.72366118],\n",
       "       [ 1.        ,  0.        ,  1.        ,  0.        ,  0.        ,\n",
       "         0.        ,  0.        ,  0.        ,  0.        ,  1.        ,\n",
       "         0.        ,  0.        ,  0.        ,  0.        ,  0.        ,\n",
       "         0.        ,  0.        ,  0.        ,  0.        ,  0.        ,\n",
       "         0.        ,  2.56677458],\n",
       "       [ 1.        ,  0.        ,  1.        ,  0.        ,  0.        ,\n",
       "         0.        ,  0.        ,  0.        ,  0.        ,  0.        ,\n",
       "         1.        ,  0.        ,  0.        ,  0.        ,  0.        ,\n",
       "         0.        ,  0.        ,  0.        ,  0.        ,  0.        ,\n",
       "         0.        , -0.18437245],\n",
       "       [ 1.        ,  0.        ,  1.        ,  0.        ,  0.        ,\n",
       "         0.        ,  0.        ,  0.        ,  0.        ,  0.        ,\n",
       "         0.        ,  1.        ,  0.        ,  0.        ,  0.        ,\n",
       "         0.        ,  0.        ,  0.        ,  0.        ,  0.        ,\n",
       "         0.        , -0.40021086],\n",
       "       [ 1.        ,  0.        ,  1.        ,  0.        ,  0.        ,\n",
       "         0.        ,  0.        ,  0.        ,  0.        ,  0.        ,\n",
       "         0.        ,  0.        ,  0.        ,  1.        ,  0.        ,\n",
       "         0.        ,  0.        ,  0.        ,  0.        ,  0.        ,\n",
       "         0.        , -0.40021086],\n",
       "       [ 1.        ,  0.        ,  1.        ,  0.        ,  0.        ,\n",
       "         0.        ,  0.        ,  0.        ,  0.        ,  0.        ,\n",
       "         0.        ,  0.        ,  0.        ,  0.        ,  1.        ,\n",
       "         0.        ,  0.        ,  0.        ,  0.        ,  0.        ,\n",
       "         0.        , -0.39088499],\n",
       "       [ 1.        ,  0.        ,  1.        ,  0.        ,  0.        ,\n",
       "         0.        ,  0.        ,  0.        ,  0.        ,  0.        ,\n",
       "         0.        ,  0.        ,  0.        ,  0.        ,  0.        ,\n",
       "         1.        ,  0.        ,  0.        ,  0.        ,  0.        ,\n",
       "         0.        , -0.30309011],\n",
       "       [ 1.        ,  0.        ,  1.        ,  0.        ,  0.        ,\n",
       "         0.        ,  0.        ,  0.        ,  0.        ,  0.        ,\n",
       "         0.        ,  0.        ,  0.        ,  0.        ,  0.        ,\n",
       "         0.        ,  1.        ,  0.        ,  0.        ,  0.        ,\n",
       "         0.        , -0.39088499],\n",
       "       [ 1.        ,  0.        ,  1.        ,  0.        ,  0.        ,\n",
       "         0.        ,  0.        ,  0.        ,  0.        ,  0.        ,\n",
       "         0.        ,  0.        ,  0.        ,  0.        ,  0.        ,\n",
       "         0.        ,  0.        ,  1.        ,  0.        ,  0.        ,\n",
       "         0.        , -0.24060935],\n",
       "       [ 1.        ,  0.        ,  1.        ,  0.        ,  0.        ,\n",
       "         0.        ,  0.        ,  0.        ,  0.        ,  0.        ,\n",
       "         0.        ,  0.        ,  0.        ,  0.        ,  0.        ,\n",
       "         0.        ,  0.        ,  0.        ,  1.        ,  0.        ,\n",
       "         0.        ,  0.11317827],\n",
       "       [ 1.        ,  0.        ,  1.        ,  0.        ,  0.        ,\n",
       "         0.        ,  0.        ,  0.        ,  0.        ,  0.        ,\n",
       "         0.        ,  0.        ,  0.        ,  0.        ,  0.        ,\n",
       "         0.        ,  0.        ,  0.        ,  0.        ,  1.        ,\n",
       "         0.        , -0.40021086]])"
      ]
     },
     "execution_count": 954,
     "metadata": {},
     "output_type": "execute_result"
    }
   ],
   "source": [
    "training_set_sequence[0]"
   ]
  },
  {
   "cell_type": "markdown",
   "id": "5965ac88",
   "metadata": {},
   "source": [
    "#### modeling the data"
   ]
  },
  {
   "cell_type": "markdown",
   "id": "f4315086",
   "metadata": {},
   "source": [
    "epoch use 24  and batch size 4 basd on the number of the data. make sure the number of retraining enought to represent the data. make sure the loss accurate (sometimes trial and eror). do not need bi directional model"
   ]
  },
  {
   "cell_type": "code",
   "execution_count": 955,
   "id": "c6b99735",
   "metadata": {},
   "outputs": [
    {
     "name": "stderr",
     "output_type": "stream",
     "text": [
      "c:\\Users\\cbcbx\\anaconda3\\Lib\\site-packages\\keras\\src\\layers\\rnn\\rnn.py:199: UserWarning: Do not pass an `input_shape`/`input_dim` argument to a layer. When using Sequential models, prefer using an `Input(shape)` object as the first layer in the model instead.\n",
      "  super().__init__(**kwargs)\n"
     ]
    },
    {
     "data": {
      "text/html": [
       "<pre style=\"white-space:pre;overflow-x:auto;line-height:normal;font-family:Menlo,'DejaVu Sans Mono',consolas,'Courier New',monospace\"><span style=\"font-weight: bold\">Model: \"sequential_27\"</span>\n",
       "</pre>\n"
      ],
      "text/plain": [
       "\u001b[1mModel: \"sequential_27\"\u001b[0m\n"
      ]
     },
     "metadata": {},
     "output_type": "display_data"
    },
    {
     "data": {
      "text/html": [
       "<pre style=\"white-space:pre;overflow-x:auto;line-height:normal;font-family:Menlo,'DejaVu Sans Mono',consolas,'Courier New',monospace\">┏━━━━━━━━━━━━━━━━━━━━━━━━━━━━━━━━━┳━━━━━━━━━━━━━━━━━━━━━━━━┳━━━━━━━━━━━━━━━┓\n",
       "┃<span style=\"font-weight: bold\"> Layer (type)                    </span>┃<span style=\"font-weight: bold\"> Output Shape           </span>┃<span style=\"font-weight: bold\">       Param # </span>┃\n",
       "┡━━━━━━━━━━━━━━━━━━━━━━━━━━━━━━━━━╇━━━━━━━━━━━━━━━━━━━━━━━━╇━━━━━━━━━━━━━━━┩\n",
       "│ lstm_27 (<span style=\"color: #0087ff; text-decoration-color: #0087ff\">LSTM</span>)                  │ (<span style=\"color: #00d7ff; text-decoration-color: #00d7ff\">None</span>, <span style=\"color: #00af00; text-decoration-color: #00af00\">128</span>)            │        <span style=\"color: #00af00; text-decoration-color: #00af00\">77,312</span> │\n",
       "├─────────────────────────────────┼────────────────────────┼───────────────┤\n",
       "│ dropout_27 (<span style=\"color: #0087ff; text-decoration-color: #0087ff\">Dropout</span>)            │ (<span style=\"color: #00d7ff; text-decoration-color: #00d7ff\">None</span>, <span style=\"color: #00af00; text-decoration-color: #00af00\">128</span>)            │             <span style=\"color: #00af00; text-decoration-color: #00af00\">0</span> │\n",
       "├─────────────────────────────────┼────────────────────────┼───────────────┤\n",
       "│ dense_27 (<span style=\"color: #0087ff; text-decoration-color: #0087ff\">Dense</span>)                │ (<span style=\"color: #00d7ff; text-decoration-color: #00d7ff\">None</span>, <span style=\"color: #00af00; text-decoration-color: #00af00\">1</span>)              │           <span style=\"color: #00af00; text-decoration-color: #00af00\">129</span> │\n",
       "└─────────────────────────────────┴────────────────────────┴───────────────┘\n",
       "</pre>\n"
      ],
      "text/plain": [
       "┏━━━━━━━━━━━━━━━━━━━━━━━━━━━━━━━━━┳━━━━━━━━━━━━━━━━━━━━━━━━┳━━━━━━━━━━━━━━━┓\n",
       "┃\u001b[1m \u001b[0m\u001b[1mLayer (type)                   \u001b[0m\u001b[1m \u001b[0m┃\u001b[1m \u001b[0m\u001b[1mOutput Shape          \u001b[0m\u001b[1m \u001b[0m┃\u001b[1m \u001b[0m\u001b[1m      Param #\u001b[0m\u001b[1m \u001b[0m┃\n",
       "┡━━━━━━━━━━━━━━━━━━━━━━━━━━━━━━━━━╇━━━━━━━━━━━━━━━━━━━━━━━━╇━━━━━━━━━━━━━━━┩\n",
       "│ lstm_27 (\u001b[38;5;33mLSTM\u001b[0m)                  │ (\u001b[38;5;45mNone\u001b[0m, \u001b[38;5;34m128\u001b[0m)            │        \u001b[38;5;34m77,312\u001b[0m │\n",
       "├─────────────────────────────────┼────────────────────────┼───────────────┤\n",
       "│ dropout_27 (\u001b[38;5;33mDropout\u001b[0m)            │ (\u001b[38;5;45mNone\u001b[0m, \u001b[38;5;34m128\u001b[0m)            │             \u001b[38;5;34m0\u001b[0m │\n",
       "├─────────────────────────────────┼────────────────────────┼───────────────┤\n",
       "│ dense_27 (\u001b[38;5;33mDense\u001b[0m)                │ (\u001b[38;5;45mNone\u001b[0m, \u001b[38;5;34m1\u001b[0m)              │           \u001b[38;5;34m129\u001b[0m │\n",
       "└─────────────────────────────────┴────────────────────────┴───────────────┘\n"
      ]
     },
     "metadata": {},
     "output_type": "display_data"
    },
    {
     "data": {
      "text/html": [
       "<pre style=\"white-space:pre;overflow-x:auto;line-height:normal;font-family:Menlo,'DejaVu Sans Mono',consolas,'Courier New',monospace\"><span style=\"font-weight: bold\"> Total params: </span><span style=\"color: #00af00; text-decoration-color: #00af00\">77,441</span> (302.50 KB)\n",
       "</pre>\n"
      ],
      "text/plain": [
       "\u001b[1m Total params: \u001b[0m\u001b[38;5;34m77,441\u001b[0m (302.50 KB)\n"
      ]
     },
     "metadata": {},
     "output_type": "display_data"
    },
    {
     "data": {
      "text/html": [
       "<pre style=\"white-space:pre;overflow-x:auto;line-height:normal;font-family:Menlo,'DejaVu Sans Mono',consolas,'Courier New',monospace\"><span style=\"font-weight: bold\"> Trainable params: </span><span style=\"color: #00af00; text-decoration-color: #00af00\">77,441</span> (302.50 KB)\n",
       "</pre>\n"
      ],
      "text/plain": [
       "\u001b[1m Trainable params: \u001b[0m\u001b[38;5;34m77,441\u001b[0m (302.50 KB)\n"
      ]
     },
     "metadata": {},
     "output_type": "display_data"
    },
    {
     "data": {
      "text/html": [
       "<pre style=\"white-space:pre;overflow-x:auto;line-height:normal;font-family:Menlo,'DejaVu Sans Mono',consolas,'Courier New',monospace\"><span style=\"font-weight: bold\"> Non-trainable params: </span><span style=\"color: #00af00; text-decoration-color: #00af00\">0</span> (0.00 B)\n",
       "</pre>\n"
      ],
      "text/plain": [
       "\u001b[1m Non-trainable params: \u001b[0m\u001b[38;5;34m0\u001b[0m (0.00 B)\n"
      ]
     },
     "metadata": {},
     "output_type": "display_data"
    },
    {
     "name": "stdout",
     "output_type": "stream",
     "text": [
      "Epoch 1/24\n",
      "\u001b[1m339/339\u001b[0m \u001b[32m━━━━━━━━━━━━━━━━━━━━\u001b[0m\u001b[37m\u001b[0m \u001b[1m6s\u001b[0m 9ms/step - loss: 0.7908 - val_loss: 0.2711\n",
      "Epoch 2/24\n",
      "\u001b[1m339/339\u001b[0m \u001b[32m━━━━━━━━━━━━━━━━━━━━\u001b[0m\u001b[37m\u001b[0m \u001b[1m3s\u001b[0m 9ms/step - loss: 0.2516 - val_loss: 0.0765\n",
      "Epoch 3/24\n",
      "\u001b[1m339/339\u001b[0m \u001b[32m━━━━━━━━━━━━━━━━━━━━\u001b[0m\u001b[37m\u001b[0m \u001b[1m2s\u001b[0m 7ms/step - loss: 0.1072 - val_loss: 0.0708\n",
      "Epoch 4/24\n",
      "\u001b[1m339/339\u001b[0m \u001b[32m━━━━━━━━━━━━━━━━━━━━\u001b[0m\u001b[37m\u001b[0m \u001b[1m3s\u001b[0m 7ms/step - loss: 0.0651 - val_loss: 0.0516\n",
      "Epoch 5/24\n",
      "\u001b[1m339/339\u001b[0m \u001b[32m━━━━━━━━━━━━━━━━━━━━\u001b[0m\u001b[37m\u001b[0m \u001b[1m3s\u001b[0m 7ms/step - loss: 0.0677 - val_loss: 0.0405\n",
      "Epoch 6/24\n",
      "\u001b[1m339/339\u001b[0m \u001b[32m━━━━━━━━━━━━━━━━━━━━\u001b[0m\u001b[37m\u001b[0m \u001b[1m3s\u001b[0m 9ms/step - loss: 0.0411 - val_loss: 0.0394\n",
      "Epoch 7/24\n",
      "\u001b[1m339/339\u001b[0m \u001b[32m━━━━━━━━━━━━━━━━━━━━\u001b[0m\u001b[37m\u001b[0m \u001b[1m3s\u001b[0m 8ms/step - loss: 0.0405 - val_loss: 0.0271\n",
      "Epoch 8/24\n",
      "\u001b[1m339/339\u001b[0m \u001b[32m━━━━━━━━━━━━━━━━━━━━\u001b[0m\u001b[37m\u001b[0m \u001b[1m3s\u001b[0m 8ms/step - loss: 0.0379 - val_loss: 0.0355\n",
      "Epoch 9/24\n",
      "\u001b[1m339/339\u001b[0m \u001b[32m━━━━━━━━━━━━━━━━━━━━\u001b[0m\u001b[37m\u001b[0m \u001b[1m5s\u001b[0m 7ms/step - loss: 0.0394 - val_loss: 0.0337\n",
      "Epoch 10/24\n",
      "\u001b[1m339/339\u001b[0m \u001b[32m━━━━━━━━━━━━━━━━━━━━\u001b[0m\u001b[37m\u001b[0m \u001b[1m3s\u001b[0m 8ms/step - loss: 0.0462 - val_loss: 0.0365\n",
      "Epoch 11/24\n",
      "\u001b[1m339/339\u001b[0m \u001b[32m━━━━━━━━━━━━━━━━━━━━\u001b[0m\u001b[37m\u001b[0m \u001b[1m3s\u001b[0m 8ms/step - loss: 0.0393 - val_loss: 0.0441\n",
      "Epoch 12/24\n",
      "\u001b[1m339/339\u001b[0m \u001b[32m━━━━━━━━━━━━━━━━━━━━\u001b[0m\u001b[37m\u001b[0m \u001b[1m3s\u001b[0m 8ms/step - loss: 0.0415 - val_loss: 0.0303\n",
      "Epoch 13/24\n",
      "\u001b[1m339/339\u001b[0m \u001b[32m━━━━━━━━━━━━━━━━━━━━\u001b[0m\u001b[37m\u001b[0m \u001b[1m3s\u001b[0m 7ms/step - loss: 0.0279 - val_loss: 0.0205\n",
      "Epoch 14/24\n",
      "\u001b[1m339/339\u001b[0m \u001b[32m━━━━━━━━━━━━━━━━━━━━\u001b[0m\u001b[37m\u001b[0m \u001b[1m5s\u001b[0m 14ms/step - loss: 0.0272 - val_loss: 0.0304\n",
      "Epoch 15/24\n",
      "\u001b[1m339/339\u001b[0m \u001b[32m━━━━━━━━━━━━━━━━━━━━\u001b[0m\u001b[37m\u001b[0m \u001b[1m7s\u001b[0m 21ms/step - loss: 0.0400 - val_loss: 0.0339\n",
      "Epoch 16/24\n",
      "\u001b[1m339/339\u001b[0m \u001b[32m━━━━━━━━━━━━━━━━━━━━\u001b[0m\u001b[37m\u001b[0m \u001b[1m9s\u001b[0m 24ms/step - loss: 0.0399 - val_loss: 0.0381\n",
      "Epoch 17/24\n",
      "\u001b[1m339/339\u001b[0m \u001b[32m━━━━━━━━━━━━━━━━━━━━\u001b[0m\u001b[37m\u001b[0m \u001b[1m5s\u001b[0m 15ms/step - loss: 0.0335 - val_loss: 0.0394\n",
      "Epoch 18/24\n",
      "\u001b[1m339/339\u001b[0m \u001b[32m━━━━━━━━━━━━━━━━━━━━\u001b[0m\u001b[37m\u001b[0m \u001b[1m4s\u001b[0m 12ms/step - loss: 0.0317 - val_loss: 0.0326\n",
      "Epoch 19/24\n",
      "\u001b[1m339/339\u001b[0m \u001b[32m━━━━━━━━━━━━━━━━━━━━\u001b[0m\u001b[37m\u001b[0m \u001b[1m4s\u001b[0m 11ms/step - loss: 0.0253 - val_loss: 0.0226\n",
      "Epoch 20/24\n",
      "\u001b[1m339/339\u001b[0m \u001b[32m━━━━━━━━━━━━━━━━━━━━\u001b[0m\u001b[37m\u001b[0m \u001b[1m3s\u001b[0m 8ms/step - loss: 0.0306 - val_loss: 0.0275\n",
      "Epoch 21/24\n",
      "\u001b[1m339/339\u001b[0m \u001b[32m━━━━━━━━━━━━━━━━━━━━\u001b[0m\u001b[37m\u001b[0m \u001b[1m6s\u001b[0m 17ms/step - loss: 0.0307 - val_loss: 0.0168\n",
      "Epoch 22/24\n",
      "\u001b[1m339/339\u001b[0m \u001b[32m━━━━━━━━━━━━━━━━━━━━\u001b[0m\u001b[37m\u001b[0m \u001b[1m6s\u001b[0m 18ms/step - loss: 0.0286 - val_loss: 0.0402\n",
      "Epoch 23/24\n",
      "\u001b[1m339/339\u001b[0m \u001b[32m━━━━━━━━━━━━━━━━━━━━\u001b[0m\u001b[37m\u001b[0m \u001b[1m5s\u001b[0m 15ms/step - loss: 0.0331 - val_loss: 0.0213\n",
      "Epoch 24/24\n",
      "\u001b[1m339/339\u001b[0m \u001b[32m━━━━━━━━━━━━━━━━━━━━\u001b[0m\u001b[37m\u001b[0m \u001b[1m6s\u001b[0m 18ms/step - loss: 0.0221 - val_loss: 0.0222\n"
     ]
    }
   ],
   "source": [
    "model = machine_learning_model()\n",
    "\n",
    "history = model.fit(\n",
    "    training_set_sequence,\n",
    "    training_set_output, \n",
    "    epochs=24, \n",
    "    batch_size=4, \n",
    "    validation_split=0.1,\n",
    "    shuffle=False,\n",
    ")"
   ]
  },
  {
   "cell_type": "markdown",
   "id": "5fce5139",
   "metadata": {},
   "source": [
    "loss value model"
   ]
  },
  {
   "cell_type": "code",
   "execution_count": 956,
   "id": "daf941d4",
   "metadata": {},
   "outputs": [
    {
     "data": {
      "image/png": "[encoded data removed]",
      "text/plain": [
       "<Figure size 640x480 with 1 Axes>"
      ]
     },
     "metadata": {},
     "output_type": "display_data"
    }
   ],
   "source": [
    "fig,ax = plt.subplots()\n",
    "plt.plot(history.history['loss'], label='training loss')\n",
    "plt.plot(history.history['val_loss'], label='test loss')\n",
    "ax.set_xlabel('EPOCHS')\n",
    "ax.set_ylabel('Loss value')\n",
    "plt.legend();"
   ]
  },
  {
   "cell_type": "code",
   "execution_count": 957,
   "id": "64eea0e2",
   "metadata": {},
   "outputs": [
    {
     "name": "stdout",
     "output_type": "stream",
     "text": [
      "\u001b[1m48/48\u001b[0m \u001b[32m━━━━━━━━━━━━━━━━━━━━\u001b[0m\u001b[37m\u001b[0m \u001b[1m2s\u001b[0m 20ms/step\n"
     ]
    }
   ],
   "source": [
    "train_set_predictions = model.predict(training_set_sequence)\n"
   ]
  },
  {
   "cell_type": "code",
   "execution_count": 958,
   "id": "a7c95136",
   "metadata": {},
   "outputs": [
    {
     "data": {
      "text/plain": [
       "array([[-0.29004616],\n",
       "       [-0.25784323],\n",
       "       [ 0.9318981 ],\n",
       "       [ 0.19026981],\n",
       "       [-0.37717155],\n",
       "       [-0.43436998]], dtype=float32)"
      ]
     },
     "execution_count": 958,
     "metadata": {},
     "output_type": "execute_result"
    }
   ],
   "source": [
    "train_set_predictions[:6]"
   ]
  },
  {
   "cell_type": "code",
   "execution_count": 959,
   "id": "4b3b4ff8",
   "metadata": {},
   "outputs": [
    {
     "data": {
      "text/plain": [
       "1505"
      ]
     },
     "execution_count": 959,
     "metadata": {},
     "output_type": "execute_result"
    }
   ],
   "source": [
    "len(train_set_predictions)"
   ]
  },
  {
   "cell_type": "code",
   "execution_count": 960,
   "id": "a2297143",
   "metadata": {},
   "outputs": [
    {
     "data": {
      "application/vnd.microsoft.datawrangler.viewer.v0+json": {
       "columns": [
        {
         "name": "period",
         "rawType": "object",
         "type": "string"
        },
        {
         "name": "cnt",
         "rawType": "float64",
         "type": "float"
        }
       ],
       "ref": "a1fa0deb-3657-4a08-b338-f7117e4172b2",
       "rows": [
        [
         "1/1/2019",
         "-0.013872971440649333"
        ],
        [
         "1/1/2019",
         "5.723661181020344"
        ],
        [
         "1/1/2019",
         "2.5667745830860236"
        ],
        [
         "1/1/2019",
         "-0.18437244976975567"
        ],
        [
         "1/1/2019",
         "-0.40021085790757666"
        ],
        [
         "1/1/2019",
         "-0.40021085790757666"
        ]
       ],
       "shape": {
        "columns": 1,
        "rows": 6
       }
      },
      "text/plain": [
       "period\n",
       "1/1/2019   -0.013873\n",
       "1/1/2019    5.723661\n",
       "1/1/2019    2.566775\n",
       "1/1/2019   -0.184372\n",
       "1/1/2019   -0.400211\n",
       "1/1/2019   -0.400211\n",
       "Name: cnt, dtype: float64"
      ]
     },
     "execution_count": 960,
     "metadata": {},
     "output_type": "execute_result"
    }
   ],
   "source": [
    "training_set['cnt'][:6]"
   ]
  },
  {
   "cell_type": "code",
   "execution_count": 961,
   "id": "426229b1",
   "metadata": {},
   "outputs": [
    {
     "name": "stdout",
     "output_type": "stream",
     "text": [
      "\u001b[1m16/16\u001b[0m \u001b[32m━━━━━━━━━━━━━━━━━━━━\u001b[0m\u001b[37m\u001b[0m \u001b[1m0s\u001b[0m 20ms/step\n"
     ]
    }
   ],
   "source": [
    "test_set_predictions = model.predict(test_set_sequence)\n"
   ]
  },
  {
   "cell_type": "code",
   "execution_count": 962,
   "id": "a85a9a30",
   "metadata": {},
   "outputs": [
    {
     "data": {
      "text/plain": [
       "array([[-0.18677251],\n",
       "       [ 5.0844154 ],\n",
       "       [ 2.3857956 ],\n",
       "       [-0.12396429],\n",
       "       [-0.3677959 ],\n",
       "       [-0.38753584],\n",
       "       [-0.37660402],\n",
       "       [-0.32904148],\n",
       "       [-0.38954297],\n",
       "       [-0.28306913]], dtype=float32)"
      ]
     },
     "execution_count": 962,
     "metadata": {},
     "output_type": "execute_result"
    }
   ],
   "source": [
    "test_set_predictions[:10]"
   ]
  },
  {
   "cell_type": "code",
   "execution_count": 963,
   "id": "fb88c133",
   "metadata": {},
   "outputs": [],
   "source": [
    "actual_testset_values = [[x] for x in test_set_output]"
   ]
  },
  {
   "cell_type": "code",
   "execution_count": 964,
   "id": "8ddd0272",
   "metadata": {},
   "outputs": [
    {
     "data": {
      "text/plain": [
       "[[-0.04678676982241516],\n",
       " [6.039932256310328],\n",
       " [2.7909008259336434],\n",
       " [-0.1894241969978538],\n",
       " [-0.39591065337671666],\n",
       " [-0.39591065337671666],\n",
       " [-0.3845869553207868],\n",
       " [-0.28585478894326105],\n",
       " [-0.3845869553207868],\n",
       " [-0.21864087076010444]]"
      ]
     },
     "execution_count": 964,
     "metadata": {},
     "output_type": "execute_result"
    }
   ],
   "source": [
    "actual_testset_values[:10]"
   ]
  },
  {
   "cell_type": "code",
   "execution_count": 965,
   "id": "87fcaf69",
   "metadata": {},
   "outputs": [],
   "source": [
    "actual_testset_values = np.array(actual_testset_values)"
   ]
  },
  {
   "cell_type": "code",
   "execution_count": 966,
   "id": "cf507775",
   "metadata": {},
   "outputs": [],
   "source": [
    "training_set,test_set = data_group.iloc[0:training_set_size],data_group.iloc[training_set_size:len(data)]"
   ]
  },
  {
   "cell_type": "code",
   "execution_count": 967,
   "id": "b64ae225",
   "metadata": {},
   "outputs": [
    {
     "name": "stdout",
     "output_type": "stream",
     "text": [
      "494\n",
      "494\n",
      "494\n",
      "506\n"
     ]
    }
   ],
   "source": [
    "print(len(actual_testset_values))\n",
    "print(len(test_set_predictions))\n",
    "# print(len())\n",
    "print(len(test_set_output))\n",
    "print(len(test_set))\n"
   ]
  },
  {
   "cell_type": "markdown",
   "id": "948aef87",
   "metadata": {},
   "source": [
    "#### comparison result"
   ]
  },
  {
   "cell_type": "markdown",
   "id": "7c1063ad",
   "metadata": {},
   "source": [
    "using transform sales"
   ]
  },
  {
   "cell_type": "code",
   "execution_count": 968,
   "id": "b8ff2afb",
   "metadata": {},
   "outputs": [
    {
     "data": {
      "image/png": "[encoded data removed]",
      "text/plain": [
       "<Figure size 640x480 with 1 Axes>"
      ]
     },
     "metadata": {},
     "output_type": "display_data"
    }
   ],
   "source": [
    "fig,ax = plt.subplots()\n",
    "plt.plot(test_set_predictions[:100,], label='Predicted count')\n",
    "plt.plot(actual_testset_values[:100,], label='Actual count')\n",
    "ax.set_xlabel('period')\n",
    "ax.set_ylabel('sales')\n",
    "plt.legend();\n",
    "plt.show()"
   ]
  },
  {
   "cell_type": "code",
   "execution_count": 970,
   "id": "a753a9fc",
   "metadata": {},
   "outputs": [
    {
     "data": {
      "text/plain": [
       "0.3315267312237736"
      ]
     },
     "execution_count": 970,
     "metadata": {},
     "output_type": "execute_result"
    }
   ],
   "source": [
    "mean_absolute_percentage_error(test_set_predictions,actual_testset_values)"
   ]
  },
  {
   "cell_type": "code",
   "execution_count": 971,
   "id": "dd482c6f",
   "metadata": {},
   "outputs": [
    {
     "data": {
      "application/vnd.microsoft.datawrangler.viewer.v0+json": {
       "columns": [
        {
         "name": "period",
         "rawType": "object",
         "type": "string"
        },
        {
         "name": "sales amount",
         "rawType": "float64",
         "type": "float"
        },
        {
         "name": "month",
         "rawType": "int32",
         "type": "integer"
        },
        {
         "name": "year",
         "rawType": "int32",
         "type": "integer"
        },
        {
         "name": "region_Indonesia",
         "rawType": "int64",
         "type": "integer"
        },
        {
         "name": "region_Jakarta",
         "rawType": "int64",
         "type": "integer"
        },
        {
         "name": "region_Java",
         "rawType": "int64",
         "type": "integer"
        },
        {
         "name": "region_Sulawesi",
         "rawType": "int64",
         "type": "integer"
        },
        {
         "name": "region_Sumatera",
         "rawType": "int64",
         "type": "integer"
        },
        {
         "name": "sku_SKU12354",
         "rawType": "int64",
         "type": "integer"
        },
        {
         "name": "sku_sku 141",
         "rawType": "int64",
         "type": "integer"
        },
        {
         "name": "sku_sku 341",
         "rawType": "int64",
         "type": "integer"
        },
        {
         "name": "sku_sku12",
         "rawType": "int64",
         "type": "integer"
        },
        {
         "name": "sku_sku43",
         "rawType": "int64",
         "type": "integer"
        },
        {
         "name": "sku_sku555",
         "rawType": "int64",
         "type": "integer"
        },
        {
         "name": "sku_sku556",
         "rawType": "int64",
         "type": "integer"
        },
        {
         "name": "sku_sku557",
         "rawType": "int64",
         "type": "integer"
        },
        {
         "name": "sku_sku6543",
         "rawType": "int64",
         "type": "integer"
        },
        {
         "name": "sku_sku6544",
         "rawType": "int64",
         "type": "integer"
        },
        {
         "name": "sku_sku6545",
         "rawType": "int64",
         "type": "integer"
        },
        {
         "name": "sku_sku76",
         "rawType": "int64",
         "type": "integer"
        },
        {
         "name": "sku_sku788",
         "rawType": "int64",
         "type": "integer"
        },
        {
         "name": "sku_sku87",
         "rawType": "int64",
         "type": "integer"
        }
       ],
       "ref": "d4f949a7-3f14-4f4f-8161-d3a32a41baf9",
       "rows": [
        [
         "6/1/2021",
         "2076.3",
         "6",
         "2021",
         "0",
         "0",
         "0",
         "1",
         "0",
         "0",
         "0",
         "0",
         "0",
         "0",
         "0",
         "0",
         "0",
         "0",
         "0",
         "0",
         "0",
         "1",
         "0"
        ],
        [
         "6/1/2021",
         "3129.6",
         "6",
         "2021",
         "0",
         "0",
         "0",
         "1",
         "0",
         "0",
         "0",
         "0",
         "0",
         "0",
         "0",
         "0",
         "0",
         "0",
         "0",
         "0",
         "0",
         "0",
         "1"
        ],
        [
         "6/1/2021",
         "15328.6",
         "6",
         "2021",
         "0",
         "0",
         "0",
         "0",
         "1",
         "1",
         "0",
         "0",
         "0",
         "0",
         "0",
         "0",
         "0",
         "0",
         "0",
         "0",
         "0",
         "0",
         "0"
        ],
        [
         "6/1/2021",
         "243097.4",
         "6",
         "2021",
         "0",
         "0",
         "0",
         "0",
         "1",
         "0",
         "1",
         "0",
         "0",
         "0",
         "0",
         "0",
         "0",
         "0",
         "0",
         "0",
         "0",
         "0",
         "0"
        ],
        [
         "6/1/2021",
         "112006.5",
         "6",
         "2021",
         "0",
         "0",
         "0",
         "0",
         "1",
         "0",
         "0",
         "1",
         "0",
         "0",
         "0",
         "0",
         "0",
         "0",
         "0",
         "0",
         "0",
         "0",
         "0"
        ]
       ],
       "shape": {
        "columns": 22,
        "rows": 5
       }
      },
      "text/html": [
       "<div>\n",
       "<style scoped>\n",
       "    .dataframe tbody tr th:only-of-type {\n",
       "        vertical-align: middle;\n",
       "    }\n",
       "\n",
       "    .dataframe tbody tr th {\n",
       "        vertical-align: top;\n",
       "    }\n",
       "\n",
       "    .dataframe thead th {\n",
       "        text-align: right;\n",
       "    }\n",
       "</style>\n",
       "<table border=\"1\" class=\"dataframe\">\n",
       "  <thead>\n",
       "    <tr style=\"text-align: right;\">\n",
       "      <th></th>\n",
       "      <th>sales amount</th>\n",
       "      <th>month</th>\n",
       "      <th>year</th>\n",
       "      <th>region_Indonesia</th>\n",
       "      <th>region_Jakarta</th>\n",
       "      <th>region_Java</th>\n",
       "      <th>region_Sulawesi</th>\n",
       "      <th>region_Sumatera</th>\n",
       "      <th>sku_SKU12354</th>\n",
       "      <th>sku_sku 141</th>\n",
       "      <th>...</th>\n",
       "      <th>sku_sku43</th>\n",
       "      <th>sku_sku555</th>\n",
       "      <th>sku_sku556</th>\n",
       "      <th>sku_sku557</th>\n",
       "      <th>sku_sku6543</th>\n",
       "      <th>sku_sku6544</th>\n",
       "      <th>sku_sku6545</th>\n",
       "      <th>sku_sku76</th>\n",
       "      <th>sku_sku788</th>\n",
       "      <th>sku_sku87</th>\n",
       "    </tr>\n",
       "    <tr>\n",
       "      <th>period</th>\n",
       "      <th></th>\n",
       "      <th></th>\n",
       "      <th></th>\n",
       "      <th></th>\n",
       "      <th></th>\n",
       "      <th></th>\n",
       "      <th></th>\n",
       "      <th></th>\n",
       "      <th></th>\n",
       "      <th></th>\n",
       "      <th></th>\n",
       "      <th></th>\n",
       "      <th></th>\n",
       "      <th></th>\n",
       "      <th></th>\n",
       "      <th></th>\n",
       "      <th></th>\n",
       "      <th></th>\n",
       "      <th></th>\n",
       "      <th></th>\n",
       "      <th></th>\n",
       "    </tr>\n",
       "  </thead>\n",
       "  <tbody>\n",
       "    <tr>\n",
       "      <th>6/1/2021</th>\n",
       "      <td>2076.3</td>\n",
       "      <td>6</td>\n",
       "      <td>2021</td>\n",
       "      <td>0</td>\n",
       "      <td>0</td>\n",
       "      <td>0</td>\n",
       "      <td>1</td>\n",
       "      <td>0</td>\n",
       "      <td>0</td>\n",
       "      <td>0</td>\n",
       "      <td>...</td>\n",
       "      <td>0</td>\n",
       "      <td>0</td>\n",
       "      <td>0</td>\n",
       "      <td>0</td>\n",
       "      <td>0</td>\n",
       "      <td>0</td>\n",
       "      <td>0</td>\n",
       "      <td>0</td>\n",
       "      <td>1</td>\n",
       "      <td>0</td>\n",
       "    </tr>\n",
       "    <tr>\n",
       "      <th>6/1/2021</th>\n",
       "      <td>3129.6</td>\n",
       "      <td>6</td>\n",
       "      <td>2021</td>\n",
       "      <td>0</td>\n",
       "      <td>0</td>\n",
       "      <td>0</td>\n",
       "      <td>1</td>\n",
       "      <td>0</td>\n",
       "      <td>0</td>\n",
       "      <td>0</td>\n",
       "      <td>...</td>\n",
       "      <td>0</td>\n",
       "      <td>0</td>\n",
       "      <td>0</td>\n",
       "      <td>0</td>\n",
       "      <td>0</td>\n",
       "      <td>0</td>\n",
       "      <td>0</td>\n",
       "      <td>0</td>\n",
       "      <td>0</td>\n",
       "      <td>1</td>\n",
       "    </tr>\n",
       "    <tr>\n",
       "      <th>6/1/2021</th>\n",
       "      <td>15328.6</td>\n",
       "      <td>6</td>\n",
       "      <td>2021</td>\n",
       "      <td>0</td>\n",
       "      <td>0</td>\n",
       "      <td>0</td>\n",
       "      <td>0</td>\n",
       "      <td>1</td>\n",
       "      <td>1</td>\n",
       "      <td>0</td>\n",
       "      <td>...</td>\n",
       "      <td>0</td>\n",
       "      <td>0</td>\n",
       "      <td>0</td>\n",
       "      <td>0</td>\n",
       "      <td>0</td>\n",
       "      <td>0</td>\n",
       "      <td>0</td>\n",
       "      <td>0</td>\n",
       "      <td>0</td>\n",
       "      <td>0</td>\n",
       "    </tr>\n",
       "    <tr>\n",
       "      <th>6/1/2021</th>\n",
       "      <td>243097.4</td>\n",
       "      <td>6</td>\n",
       "      <td>2021</td>\n",
       "      <td>0</td>\n",
       "      <td>0</td>\n",
       "      <td>0</td>\n",
       "      <td>0</td>\n",
       "      <td>1</td>\n",
       "      <td>0</td>\n",
       "      <td>1</td>\n",
       "      <td>...</td>\n",
       "      <td>0</td>\n",
       "      <td>0</td>\n",
       "      <td>0</td>\n",
       "      <td>0</td>\n",
       "      <td>0</td>\n",
       "      <td>0</td>\n",
       "      <td>0</td>\n",
       "      <td>0</td>\n",
       "      <td>0</td>\n",
       "      <td>0</td>\n",
       "    </tr>\n",
       "    <tr>\n",
       "      <th>6/1/2021</th>\n",
       "      <td>112006.5</td>\n",
       "      <td>6</td>\n",
       "      <td>2021</td>\n",
       "      <td>0</td>\n",
       "      <td>0</td>\n",
       "      <td>0</td>\n",
       "      <td>0</td>\n",
       "      <td>1</td>\n",
       "      <td>0</td>\n",
       "      <td>0</td>\n",
       "      <td>...</td>\n",
       "      <td>0</td>\n",
       "      <td>0</td>\n",
       "      <td>0</td>\n",
       "      <td>0</td>\n",
       "      <td>0</td>\n",
       "      <td>0</td>\n",
       "      <td>0</td>\n",
       "      <td>0</td>\n",
       "      <td>0</td>\n",
       "      <td>0</td>\n",
       "    </tr>\n",
       "  </tbody>\n",
       "</table>\n",
       "<p>5 rows × 22 columns</p>\n",
       "</div>"
      ],
      "text/plain": [
       "          sales amount  month  year  region_Indonesia  region_Jakarta  \\\n",
       "period                                                                  \n",
       "6/1/2021        2076.3      6  2021                 0               0   \n",
       "6/1/2021        3129.6      6  2021                 0               0   \n",
       "6/1/2021       15328.6      6  2021                 0               0   \n",
       "6/1/2021      243097.4      6  2021                 0               0   \n",
       "6/1/2021      112006.5      6  2021                 0               0   \n",
       "\n",
       "          region_Java  region_Sulawesi  region_Sumatera  sku_SKU12354  \\\n",
       "period                                                                  \n",
       "6/1/2021            0                1                0             0   \n",
       "6/1/2021            0                1                0             0   \n",
       "6/1/2021            0                0                1             1   \n",
       "6/1/2021            0                0                1             0   \n",
       "6/1/2021            0                0                1             0   \n",
       "\n",
       "          sku_sku 141  ...  sku_sku43  sku_sku555  sku_sku556  sku_sku557  \\\n",
       "period                 ...                                                  \n",
       "6/1/2021            0  ...          0           0           0           0   \n",
       "6/1/2021            0  ...          0           0           0           0   \n",
       "6/1/2021            0  ...          0           0           0           0   \n",
       "6/1/2021            1  ...          0           0           0           0   \n",
       "6/1/2021            0  ...          0           0           0           0   \n",
       "\n",
       "          sku_sku6543  sku_sku6544  sku_sku6545  sku_sku76  sku_sku788  \\\n",
       "period                                                                   \n",
       "6/1/2021            0            0            0          0           1   \n",
       "6/1/2021            0            0            0          0           0   \n",
       "6/1/2021            0            0            0          0           0   \n",
       "6/1/2021            0            0            0          0           0   \n",
       "6/1/2021            0            0            0          0           0   \n",
       "\n",
       "          sku_sku87  \n",
       "period               \n",
       "6/1/2021          0  \n",
       "6/1/2021          1  \n",
       "6/1/2021          0  \n",
       "6/1/2021          0  \n",
       "6/1/2021          0  \n",
       "\n",
       "[5 rows x 22 columns]"
      ]
     },
     "execution_count": 971,
     "metadata": {},
     "output_type": "execute_result"
    }
   ],
   "source": [
    "data_group.tail(test_set_size).head()"
   ]
  },
  {
   "cell_type": "code",
   "execution_count": 972,
   "id": "ffed6d3f",
   "metadata": {},
   "outputs": [],
   "source": [
    "inverse_test_prediction = cnt_transformer.inverse_transform(test_set_predictions)"
   ]
  },
  {
   "cell_type": "code",
   "execution_count": 973,
   "id": "8a144cb9",
   "metadata": {},
   "outputs": [
    {
     "data": {
      "text/plain": [
       "array([[  61650.953],\n",
       "       [1375340.1  ],\n",
       "       [ 702788.25 ],\n",
       "       [  77304.06 ],\n",
       "       [  16536.172]], dtype=float32)"
      ]
     },
     "execution_count": 973,
     "metadata": {},
     "output_type": "execute_result"
    }
   ],
   "source": [
    "inverse_test_prediction[:5]"
   ]
  },
  {
   "cell_type": "code",
   "execution_count": 974,
   "id": "4824581f",
   "metadata": {},
   "outputs": [
    {
     "data": {
      "text/plain": [
       "array([[  96538.3],\n",
       "       [1613474.7],\n",
       "       [ 803748.8],\n",
       "       [  60990.1],\n",
       "       [   9529.4]])"
      ]
     },
     "execution_count": 974,
     "metadata": {},
     "output_type": "execute_result"
    }
   ],
   "source": [
    "tes_data_sales = cnt_transformer.inverse_transform(actual_testset_values)\n",
    "tes_data_sales[:5]"
   ]
  },
  {
   "cell_type": "code",
   "execution_count": 975,
   "id": "3c265b1c",
   "metadata": {},
   "outputs": [],
   "source": [
    "sl =[]\n",
    "sales_comp = pd.DataFrame(sl)"
   ]
  },
  {
   "cell_type": "code",
   "execution_count": 976,
   "id": "405e86c8",
   "metadata": {},
   "outputs": [],
   "source": [
    "sales_comp['tes_data_sales']=pd.DataFrame(tes_data_sales)\n",
    "sales_comp['inverse_test_prediction']=pd.DataFrame(inverse_test_prediction)"
   ]
  },
  {
   "cell_type": "code",
   "execution_count": 977,
   "id": "6d8e9034",
   "metadata": {},
   "outputs": [
    {
     "data": {
      "application/vnd.microsoft.datawrangler.viewer.v0+json": {
       "columns": [
        {
         "name": "index",
         "rawType": "int64",
         "type": "integer"
        },
        {
         "name": "tes_data_sales",
         "rawType": "int64",
         "type": "integer"
        },
        {
         "name": "inverse_test_prediction",
         "rawType": "int64",
         "type": "integer"
        }
       ],
       "ref": "01f42a2f-2cd1-420a-9f3a-e1d4eb425828",
       "rows": [
        [
         "0",
         "96538",
         "61650"
        ],
        [
         "1",
         "1613474",
         "1375340"
        ],
        [
         "2",
         "803748",
         "702788"
        ],
        [
         "3",
         "60990",
         "77304"
        ],
        [
         "4",
         "9529",
         "16536"
        ],
        [
         "5",
         "9529",
         "11616"
        ],
        [
         "6",
         "12351",
         "14341"
        ],
        [
         "7",
         "36957",
         "26194"
        ],
        [
         "8",
         "12351",
         "11116"
        ],
        [
         "9",
         "53708",
         "37651"
        ],
        [
         "10",
         "132978",
         "152606"
        ],
        [
         "11",
         "9529",
         "1561"
        ],
        [
         "12",
         "60990",
         "45111"
        ],
        [
         "13",
         "39582",
         "39432"
        ],
        [
         "14",
         "428311",
         "330405"
        ],
        [
         "15",
         "206250",
         "173305"
        ],
        [
         "16",
         "31851",
         "28593"
        ],
        [
         "17",
         "7562",
         "10302"
        ],
        [
         "18",
         "9207",
         "8598"
        ],
        [
         "19",
         "10622",
         "8301"
        ],
        [
         "20",
         "30038",
         "29751"
        ],
        [
         "21",
         "12012",
         "10422"
        ],
        [
         "22",
         "31851",
         "25286"
        ],
        [
         "23",
         "83196",
         "71845"
        ],
        [
         "24",
         "1050804",
         "832385"
        ],
        [
         "25",
         "514695",
         "474023"
        ],
        [
         "26",
         "55402",
         "68375"
        ],
        [
         "27",
         "15433",
         "21441"
        ],
        [
         "28",
         "9529",
         "15091"
        ],
        [
         "29",
         "11269",
         "12662"
        ],
        [
         "30",
         "89049",
         "94187"
        ],
        [
         "31",
         "23023",
         "18854"
        ],
        [
         "32",
         "55402",
         "51518"
        ],
        [
         "33",
         "24084",
         "33179"
        ],
        [
         "34",
         "301211",
         "250663"
        ],
        [
         "35",
         "160622",
         "136242"
        ],
        [
         "36",
         "3715",
         "2918"
        ],
        [
         "37",
         "2196",
         "2291"
        ],
        [
         "38",
         "10704",
         "8313"
        ],
        [
         "39",
         "608",
         "7122"
        ],
        [
         "40",
         "23723",
         "36839"
        ],
        [
         "41",
         "3758",
         "3590"
        ],
        [
         "42",
         "3715",
         "11788"
        ],
        [
         "43",
         "18732",
         "20150"
        ],
        [
         "44",
         "261458",
         "197531"
        ],
        [
         "45",
         "128431",
         "107766"
        ],
        [
         "46",
         "1872",
         "3798"
        ],
        [
         "47",
         "4713",
         "3905"
        ],
        [
         "48",
         "3382",
         "3424"
        ],
        [
         "49",
         "1875",
         "4261"
        ]
       ],
       "shape": {
        "columns": 2,
        "rows": 494
       }
      },
      "text/html": [
       "<div>\n",
       "<style scoped>\n",
       "    .dataframe tbody tr th:only-of-type {\n",
       "        vertical-align: middle;\n",
       "    }\n",
       "\n",
       "    .dataframe tbody tr th {\n",
       "        vertical-align: top;\n",
       "    }\n",
       "\n",
       "    .dataframe thead th {\n",
       "        text-align: right;\n",
       "    }\n",
       "</style>\n",
       "<table border=\"1\" class=\"dataframe\">\n",
       "  <thead>\n",
       "    <tr style=\"text-align: right;\">\n",
       "      <th></th>\n",
       "      <th>tes_data_sales</th>\n",
       "      <th>inverse_test_prediction</th>\n",
       "    </tr>\n",
       "  </thead>\n",
       "  <tbody>\n",
       "    <tr>\n",
       "      <th>0</th>\n",
       "      <td>96538</td>\n",
       "      <td>61650</td>\n",
       "    </tr>\n",
       "    <tr>\n",
       "      <th>1</th>\n",
       "      <td>1613474</td>\n",
       "      <td>1375340</td>\n",
       "    </tr>\n",
       "    <tr>\n",
       "      <th>2</th>\n",
       "      <td>803748</td>\n",
       "      <td>702788</td>\n",
       "    </tr>\n",
       "    <tr>\n",
       "      <th>3</th>\n",
       "      <td>60990</td>\n",
       "      <td>77304</td>\n",
       "    </tr>\n",
       "    <tr>\n",
       "      <th>4</th>\n",
       "      <td>9529</td>\n",
       "      <td>16536</td>\n",
       "    </tr>\n",
       "    <tr>\n",
       "      <th>...</th>\n",
       "      <td>...</td>\n",
       "      <td>...</td>\n",
       "    </tr>\n",
       "    <tr>\n",
       "      <th>489</th>\n",
       "      <td>2734</td>\n",
       "      <td>14175</td>\n",
       "    </tr>\n",
       "    <tr>\n",
       "      <th>490</th>\n",
       "      <td>2163</td>\n",
       "      <td>9394</td>\n",
       "    </tr>\n",
       "    <tr>\n",
       "      <th>491</th>\n",
       "      <td>28365</td>\n",
       "      <td>43472</td>\n",
       "    </tr>\n",
       "    <tr>\n",
       "      <th>492</th>\n",
       "      <td>2520</td>\n",
       "      <td>9397</td>\n",
       "    </tr>\n",
       "    <tr>\n",
       "      <th>493</th>\n",
       "      <td>3176</td>\n",
       "      <td>24038</td>\n",
       "    </tr>\n",
       "  </tbody>\n",
       "</table>\n",
       "<p>494 rows × 2 columns</p>\n",
       "</div>"
      ],
      "text/plain": [
       "     tes_data_sales  inverse_test_prediction\n",
       "0             96538                    61650\n",
       "1           1613474                  1375340\n",
       "2            803748                   702788\n",
       "3             60990                    77304\n",
       "4              9529                    16536\n",
       "..              ...                      ...\n",
       "489            2734                    14175\n",
       "490            2163                     9394\n",
       "491           28365                    43472\n",
       "492            2520                     9397\n",
       "493            3176                    24038\n",
       "\n",
       "[494 rows x 2 columns]"
      ]
     },
     "execution_count": 977,
     "metadata": {},
     "output_type": "execute_result"
    }
   ],
   "source": [
    "sales_comp['tes_data_sales']= [int(x) for x in sales_comp['tes_data_sales']]\n",
    "sales_comp['inverse_test_prediction']= [int(x) for x in sales_comp['inverse_test_prediction']]\n",
    "sales_comp"
   ]
  },
  {
   "cell_type": "markdown",
   "id": "ee322f16",
   "metadata": {},
   "source": [
    "using real sales data"
   ]
  },
  {
   "cell_type": "code",
   "execution_count": 986,
   "id": "a5bd7edf",
   "metadata": {},
   "outputs": [
    {
     "data": {
      "image/png": "[encoded data removed]",
      "text/plain": [
       "<Figure size 640x480 with 1 Axes>"
      ]
     },
     "metadata": {},
     "output_type": "display_data"
    }
   ],
   "source": [
    "fig,ax = plt.subplots()\n",
    "plt.plot(sales_comp['inverse_test_prediction'][:100], label='Predicted count')\n",
    "plt.plot(sales_comp['tes_data_sales'][:100], label='Actual count')\n",
    "ax.set_xlabel('data')\n",
    "ax.set_ylabel('sales')\n",
    "plt.legend();\n",
    "plt.show()"
   ]
  },
  {
   "cell_type": "code",
   "execution_count": 979,
   "id": "8451c569",
   "metadata": {},
   "outputs": [],
   "source": [
    "test_set_comp =data_group.iloc[training_set_size+time_steps:len(data)]"
   ]
  },
  {
   "cell_type": "code",
   "execution_count": 980,
   "id": "9a1df549",
   "metadata": {},
   "outputs": [],
   "source": [
    "test_set_comp = test_set_comp.reset_index()"
   ]
  },
  {
   "cell_type": "code",
   "execution_count": 981,
   "id": "4cb666d1",
   "metadata": {},
   "outputs": [],
   "source": [
    "test_set_comp = pd.DataFrame(test_set_comp)"
   ]
  },
  {
   "cell_type": "code",
   "execution_count": 982,
   "id": "9bfd735a",
   "metadata": {},
   "outputs": [],
   "source": [
    "test_set_comp['prediction'] =sales_comp['inverse_test_prediction']"
   ]
  },
  {
   "cell_type": "code",
   "execution_count": 983,
   "id": "448668a0",
   "metadata": {},
   "outputs": [
    {
     "data": {
      "application/vnd.microsoft.datawrangler.viewer.v0+json": {
       "columns": [
        {
         "name": "index",
         "rawType": "int64",
         "type": "integer"
        },
        {
         "name": "sales amount",
         "rawType": "float64",
         "type": "float"
        },
        {
         "name": "region_Indonesia",
         "rawType": "int64",
         "type": "integer"
        },
        {
         "name": "prediction",
         "rawType": "int64",
         "type": "integer"
        }
       ],
       "ref": "f767f3c9-2d3c-48e9-885c-80dae16bc6c9",
       "rows": [
        [
         "0",
         "96538.3",
         "1",
         "61650"
        ],
        [
         "1",
         "1613474.7",
         "1",
         "1375340"
        ],
        [
         "2",
         "803748.8",
         "1",
         "702788"
        ],
        [
         "3",
         "60990.1",
         "1",
         "77304"
        ],
        [
         "4",
         "9529.4",
         "1",
         "16536"
        ],
        [
         "5",
         "9529.4",
         "1",
         "11616"
        ],
        [
         "6",
         "12351.5",
         "1",
         "14341"
        ],
        [
         "7",
         "36957.6",
         "1",
         "26194"
        ],
        [
         "8",
         "12351.5",
         "1",
         "11116"
        ],
        [
         "9",
         "53708.7",
         "1",
         "37651"
        ],
        [
         "10",
         "132978.8",
         "1",
         "152606"
        ],
        [
         "11",
         "9529.4",
         "1",
         "1561"
        ],
        [
         "12",
         "60990.1",
         "1",
         "45111"
        ],
        [
         "13",
         "39582.0",
         "0",
         "39432"
        ],
        [
         "14",
         "428311.4",
         "0",
         "330405"
        ],
        [
         "15",
         "206250.9",
         "0",
         "173305"
        ],
        [
         "16",
         "31851.7",
         "0",
         "28593"
        ],
        [
         "17",
         "7562.0",
         "0",
         "10302"
        ],
        [
         "18",
         "9207.6",
         "0",
         "8598"
        ],
        [
         "19",
         "10622.5",
         "0",
         "8301"
        ],
        [
         "20",
         "30038.3",
         "0",
         "29751"
        ],
        [
         "21",
         "12012.7",
         "0",
         "10422"
        ],
        [
         "22",
         "31851.7",
         "0",
         "25286"
        ],
        [
         "23",
         "83196.7",
         "0",
         "71845"
        ],
        [
         "24",
         "1050804.4",
         "0",
         "832385"
        ],
        [
         "25",
         "514695.6",
         "0",
         "474023"
        ],
        [
         "26",
         "55402.7",
         "0",
         "68375"
        ],
        [
         "27",
         "15433.8",
         "0",
         "21441"
        ],
        [
         "28",
         "9529.4",
         "0",
         "15091"
        ],
        [
         "29",
         "11269.0",
         "0",
         "12662"
        ],
        [
         "30",
         "89049.6",
         "0",
         "94187"
        ],
        [
         "31",
         "23023.9",
         "0",
         "18854"
        ],
        [
         "32",
         "55402.7",
         "0",
         "51518"
        ],
        [
         "33",
         "24084.9",
         "0",
         "33179"
        ],
        [
         "34",
         "301211.7",
         "0",
         "250663"
        ],
        [
         "35",
         "160622.1",
         "0",
         "136242"
        ],
        [
         "36",
         "3715.5",
         "0",
         "2918"
        ],
        [
         "37",
         "2196.8",
         "0",
         "2291"
        ],
        [
         "38",
         "10704.8",
         "0",
         "8313"
        ],
        [
         "39",
         "608.3",
         "0",
         "7122"
        ],
        [
         "40",
         "23723.1",
         "0",
         "36839"
        ],
        [
         "41",
         "3758.7",
         "0",
         "3590"
        ],
        [
         "42",
         "3715.5",
         "0",
         "11788"
        ],
        [
         "43",
         "18732.0",
         "0",
         "20150"
        ],
        [
         "44",
         "261458.5",
         "0",
         "197531"
        ],
        [
         "45",
         "128431.0",
         "0",
         "107766"
        ],
        [
         "46",
         "1872.0",
         "0",
         "3798"
        ],
        [
         "47",
         "4713.5",
         "0",
         "3905"
        ],
        [
         "48",
         "3382.7",
         "0",
         "3424"
        ],
        [
         "49",
         "1875.6",
         "0",
         "4261"
        ]
       ],
       "shape": {
        "columns": 3,
        "rows": 494
       }
      },
      "text/html": [
       "<div>\n",
       "<style scoped>\n",
       "    .dataframe tbody tr th:only-of-type {\n",
       "        vertical-align: middle;\n",
       "    }\n",
       "\n",
       "    .dataframe tbody tr th {\n",
       "        vertical-align: top;\n",
       "    }\n",
       "\n",
       "    .dataframe thead th {\n",
       "        text-align: right;\n",
       "    }\n",
       "</style>\n",
       "<table border=\"1\" class=\"dataframe\">\n",
       "  <thead>\n",
       "    <tr style=\"text-align: right;\">\n",
       "      <th></th>\n",
       "      <th>sales amount</th>\n",
       "      <th>region_Indonesia</th>\n",
       "      <th>prediction</th>\n",
       "    </tr>\n",
       "  </thead>\n",
       "  <tbody>\n",
       "    <tr>\n",
       "      <th>0</th>\n",
       "      <td>96538.3</td>\n",
       "      <td>1</td>\n",
       "      <td>61650</td>\n",
       "    </tr>\n",
       "    <tr>\n",
       "      <th>1</th>\n",
       "      <td>1613474.7</td>\n",
       "      <td>1</td>\n",
       "      <td>1375340</td>\n",
       "    </tr>\n",
       "    <tr>\n",
       "      <th>2</th>\n",
       "      <td>803748.8</td>\n",
       "      <td>1</td>\n",
       "      <td>702788</td>\n",
       "    </tr>\n",
       "    <tr>\n",
       "      <th>3</th>\n",
       "      <td>60990.1</td>\n",
       "      <td>1</td>\n",
       "      <td>77304</td>\n",
       "    </tr>\n",
       "    <tr>\n",
       "      <th>4</th>\n",
       "      <td>9529.4</td>\n",
       "      <td>1</td>\n",
       "      <td>16536</td>\n",
       "    </tr>\n",
       "    <tr>\n",
       "      <th>...</th>\n",
       "      <td>...</td>\n",
       "      <td>...</td>\n",
       "      <td>...</td>\n",
       "    </tr>\n",
       "    <tr>\n",
       "      <th>489</th>\n",
       "      <td>2734.9</td>\n",
       "      <td>0</td>\n",
       "      <td>14175</td>\n",
       "    </tr>\n",
       "    <tr>\n",
       "      <th>490</th>\n",
       "      <td>2163.8</td>\n",
       "      <td>0</td>\n",
       "      <td>9394</td>\n",
       "    </tr>\n",
       "    <tr>\n",
       "      <th>491</th>\n",
       "      <td>28365.0</td>\n",
       "      <td>0</td>\n",
       "      <td>43472</td>\n",
       "    </tr>\n",
       "    <tr>\n",
       "      <th>492</th>\n",
       "      <td>2520.4</td>\n",
       "      <td>0</td>\n",
       "      <td>9397</td>\n",
       "    </tr>\n",
       "    <tr>\n",
       "      <th>493</th>\n",
       "      <td>3176.6</td>\n",
       "      <td>0</td>\n",
       "      <td>24038</td>\n",
       "    </tr>\n",
       "  </tbody>\n",
       "</table>\n",
       "<p>494 rows × 3 columns</p>\n",
       "</div>"
      ],
      "text/plain": [
       "     sales amount  region_Indonesia  prediction\n",
       "0         96538.3                 1       61650\n",
       "1       1613474.7                 1     1375340\n",
       "2        803748.8                 1      702788\n",
       "3         60990.1                 1       77304\n",
       "4          9529.4                 1       16536\n",
       "..            ...               ...         ...\n",
       "489        2734.9                 0       14175\n",
       "490        2163.8                 0        9394\n",
       "491       28365.0                 0       43472\n",
       "492        2520.4                 0        9397\n",
       "493        3176.6                 0       24038\n",
       "\n",
       "[494 rows x 3 columns]"
      ]
     },
     "execution_count": 983,
     "metadata": {},
     "output_type": "execute_result"
    }
   ],
   "source": [
    "test_set_comp[['sales amount','region_Indonesia','prediction']]"
   ]
  },
  {
   "cell_type": "code",
   "execution_count": 984,
   "id": "cacf95b3",
   "metadata": {},
   "outputs": [
    {
     "data": {
      "text/plain": [
       "18180.01133603239"
      ]
     },
     "execution_count": 984,
     "metadata": {},
     "output_type": "execute_result"
    }
   ],
   "source": [
    "mean_absolute_error(test_set_comp['prediction'],test_set_comp['sales amount'])"
   ]
  },
  {
   "cell_type": "code",
   "execution_count": 985,
   "id": "8d8497de",
   "metadata": {},
   "outputs": [
    {
     "data": {
      "text/plain": [
       "0.434575975017157"
      ]
     },
     "execution_count": 985,
     "metadata": {},
     "output_type": "execute_result"
    }
   ],
   "source": [
    "mean_absolute_percentage_error(test_set_comp['prediction'],test_set_comp['sales amount'])"
   ]
  },
  {
   "cell_type": "code",
   "execution_count": 987,
   "id": "cb71a333",
   "metadata": {},
   "outputs": [
    {
     "data": {
      "image/png": "[encoded data removed]",
      "text/plain": [
       "<Figure size 640x480 with 1 Axes>"
      ]
     },
     "metadata": {},
     "output_type": "display_data"
    }
   ],
   "source": [
    "fig,ax = plt.subplots()\n",
    "plt.plot(test_set_comp['prediction'][:100], label='Predicted count')\n",
    "plt.plot(test_set_comp['sales amount'][:100], label='Actual count')\n",
    "ax.set_xlabel('data')\n",
    "ax.set_ylabel('sales')\n",
    "plt.legend();\n",
    "plt.show()"
   ]
  },
  {
   "cell_type": "code",
   "execution_count": null,
   "id": "cb6ca0cf",
   "metadata": {},
   "outputs": [],
   "source": []
  }
 ],
 "metadata": {
  "kernelspec": {
   "display_name": "base",
   "language": "python",
   "name": "python3"
  },
  "language_info": {
   "codemirror_mode": {
    "name": "ipython",
    "version": 3
   },
   "file_extension": ".py",
   "mimetype": "text/x-python",
   "name": "python",
   "nbconvert_exporter": "python",
   "pygments_lexer": "ipython3",
   "version": "3.12.3"
  }
 },
 "nbformat": 4,
 "nbformat_minor": 5
}
